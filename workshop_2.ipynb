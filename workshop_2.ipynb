{
 "cells": [
  {
   "cell_type": "code",
   "execution_count": 1,
   "id": "2c28e4dd-2aac-44aa-bcba-2608280db1db",
   "metadata": {},
   "outputs": [],
   "source": [
    "import json\n",
    "from IPython.display import JSON"
   ]
  },
  {
   "cell_type": "markdown",
   "id": "99de53a9-a2b9-4376-8540-720412cebdf5",
   "metadata": {},
   "source": [
    "# Workshop 2: Meeting Scheduler\n",
    "\n",
    "In this workshop, we will go through a simple example of using Function Calls in ChatCompletion with Azure OpenAI. We will create a personal meeting scheduler to demonstrate this functionality.\n",
    "\n",
    "## Table of Contents\n",
    "\n",
    "1. [Introduction](#Introduction)\n",
    "2. [Creating a Simple Function](#Creating-a-Simple-Function)\n",
    "3. [Creating JSON Function Tool for Azure OpenAI](#Creating-JSON-Function-Tool-for-Azure-OpenAI)\n",
    "4. [Using the Function Tool in the ChatCompletion Request](#Using-the-Function-Tool-in-the-ChatCompletion-Request)\n",
    "5. [Example Usage and Demonstrations](#Example-Usage-and-Demonstrations)\n",
    "\n",
    "### Introduction\n",
    "\n",
    "In this workshop, we will cover the following:\n",
    "\n",
    "1. **Creating a Simple Function**: Define a basic function that simulates scheduling a meeting.\n",
    "2. **Creating JSON Function Tool for Azure OpenAI**: Create a JSON representation of the function to instruct the OpenAI model on how to call it.\n",
    "3. **Using the Function Tool in the ChatCompletion Request**: Integrate the function tool into the ChatCompletion request to handle user requests for scheduling meetings.\n",
    "4. **Example Usage and Demonstrations**: Provide practical examples and demonstrations of the functionality, including how to handle responses and execute the function calls.\n",
    "\n",
    "Let's get started by importing the necessary libraries and setting up the Azure OpenAI client."
   ]
  },
  {
   "cell_type": "markdown",
   "id": "fa67ced4-d2b1-4421-95f8-53f19822c202",
   "metadata": {},
   "source": [
    "We will use the imports, functions mentioned in workshop_1 "
   ]
  },
  {
   "cell_type": "code",
   "execution_count": 2,
   "id": "834260a5-402a-4b37-8e1e-05df8cdec48e",
   "metadata": {},
   "outputs": [],
   "source": [
    "from openai import AzureOpenAI"
   ]
  },
  {
   "cell_type": "code",
   "execution_count": 3,
   "id": "162f5aa7-bac2-4c6b-88f5-b6f6c2c11703",
   "metadata": {},
   "outputs": [],
   "source": [
    "client = AzureOpenAI(\n",
    "    azure_endpoint=\"https://testopenai4.openai.azure.com/\",\n",
    "    api_key=\"19f61bb2a418484dbe809cb720c2527b\",\n",
    "    api_version=\"2024-02-15-preview\"\n",
    ")"
   ]
  },
  {
   "cell_type": "markdown",
   "id": "cf591cc3-fdb6-4fc2-90e3-48e862e5ba91",
   "metadata": {},
   "source": [
    "## 1. Creating a Function\n",
    "\n",
    "We will define a simple function that simulates scheduling a meeting in a calendar. This function will take a title, date and time, and a list of invitees as input, and return a confirmation message."
   ]
  },
  {
   "cell_type": "code",
   "execution_count": 11,
   "id": "71a97cbf-bf2f-4df8-a830-780af0c25ba6",
   "metadata": {},
   "outputs": [],
   "source": [
    "def schedule_meeting(title: str, date_and_time: str, invitees: list['str']):\n",
    "    \"\"\"This function will schedule a new meeting\"\"\"\n",
    "    return f\"A new meeting '{title}' at: {date_and_time}, with invitees: {invitees} created sucessefully\" "
   ]
  },
  {
   "cell_type": "code",
   "execution_count": 12,
   "id": "6f991d67-1e6f-405c-b17e-93280ad104b2",
   "metadata": {},
   "outputs": [
    {
     "data": {
      "text/plain": [
       "\"A new meeting 'meeting' at: 02/03/2024, with invitees: ['John Week', 'Ajit Moe', 'Dor Getter'] created sucessefully\""
      ]
     },
     "execution_count": 12,
     "metadata": {},
     "output_type": "execute_result"
    }
   ],
   "source": [
    "schedule_meeting(\"meeting\", \"02/03/2024\", [\"John Week\", \"Ajit Moe\", \"Dor Getter\"])"
   ]
  },
  {
   "cell_type": "markdown",
   "id": "1bdf156d-e2bb-4ddf-98f7-5deb7d6085fc",
   "metadata": {},
   "source": [
    "## 2. Creating a Function Call JSON\n",
    "\n",
    "We will create a JSON representation of our meeting scheduling function. This JSON will be used to instruct the OpenAI model on how to call the function.\n",
    "\n",
    "### Overall Structure\n",
    "\n",
    "A function call JSON consists of:\n",
    "- **type**: Specifies that this is a function call definition.\n",
    "- **function**: An object that contains:\n",
    "  - **name**: The name of the function.\n",
    "  - **description**: A brief description of what the function does.\n",
    "  - **parameters**: An object defining the parameters the function accepts, including their types and descriptions.\n",
    "\n",
    "### Function Call Parameter Types\n",
    "\n",
    "When defining parameters for function calls, you can use the following types:\n",
    "\n",
    "1. **String (`string`)**: Textual data.\n",
    "2. **Number (`number`)**: Numeric data (integers and floating-point).\n",
    "3. **Integer (`integer`)**: Integer values.\n",
    "4. **Boolean (`boolean`)**: True or false.\n",
    "5. **Array (`array`)**: List of items.\n",
    "6. **Object (`object`)**: Complex structure with properties.\n",
    "\n",
    "<details>\n",
    "  <summary>Click to expand full example</summary>\n",
    "\n",
    "  ```json\n",
    "  {\n",
    "    \"type\": \"object\",\n",
    "    \"properties\": {\n",
    "      \"title\": { \"type\": \"string\" },\n",
    "      \"date_and_time\": { \"type\": \"string\" },\n",
    "      \"invitees\": { \"type\": \"array\", \"items\": { \"type\": \"string\" } }\n",
    "    }\n",
    "  }\n",
    "</details>\n",
    "\"\"\"\n",
    "```"
   ]
  },
  {
   "cell_type": "code",
   "execution_count": 13,
   "id": "7aa021e2-75c5-414d-a25b-53110fbe569e",
   "metadata": {},
   "outputs": [],
   "source": [
    "schedule_meeting_tool = {\n",
    "    \"type\": \"function\",\n",
    "    \"function\": {\n",
    "        \"name\": \"schedule_meeting\",\n",
    "        \"description\": \"Schedules a new meeting with a specified title, date and time, and list of invitees.\",\n",
    "        \"parameters\": {\n",
    "            \"type\": \"object\",\n",
    "            \"properties\": {\n",
    "                \"title\": {\n",
    "                    \"type\": \"string\",\n",
    "                    \"description\": \"The title of the meeting.\"\n",
    "                },\n",
    "                \"date_and_time\": {\n",
    "                    \"type\": \"string\",\n",
    "                    \"description\": \"The date and time of the meeting in a specified format.\"\n",
    "                },\n",
    "                \"invitees\": {\n",
    "                    \"type\": \"array\",\n",
    "                    \"items\": {\n",
    "                        \"type\": \"string\"\n",
    "                    },\n",
    "                    \"description\": \"A list of invitees' names or email addresses.\"\n",
    "                }\n",
    "            },\n",
    "            \"required\": [\"title\", \"date_and_time\", \"invitees\"],\n",
    "        },\n",
    "    }\n",
    "}"
   ]
  },
  {
   "cell_type": "markdown",
   "id": "c781d142-a85b-492f-beac-057300aa255a",
   "metadata": {},
   "source": [
    "## 3. Using the function call in ChatCompletion:"
   ]
  },
  {
   "cell_type": "code",
   "execution_count": 14,
   "id": "78ee30fa-1ea9-4f9b-b7c8-26fe744f6a54",
   "metadata": {},
   "outputs": [],
   "source": [
    "system_message = \"\"\"\n",
    "You are a helpful assistant capable of scheduling meetings.\n",
    "when a user asks to schedule a meeting make sure that the user specifies the following entities:\n",
    "- **title**: Meeting title (string)\n",
    "- **date_and_time**: Date and time (string)\n",
    "- **invitees**: List of invitees' names (can be only one name)\n",
    "Instructions:\n",
    "When a user requests to schedule a meeting, ensure you have all the required entities needed to call the scheduling tool. \n",
    "If any information is missing, explicitly ask for the missing fields. if user provided only one name than dont ask him for more invitees.\n",
    "\"\"\"\n",
    "input_text = \"schedule a meeting with Dor Avihu, Shmuel Shalom and Lyri Anderson at september 8 2024 with title 'Microsoft Meeting'\"\n",
    "tools = [schedule_meeting_tool]"
   ]
  },
  {
   "cell_type": "code",
   "execution_count": 15,
   "id": "80deb8dc-f318-4720-a788-9697f503cea4",
   "metadata": {
    "scrolled": true
   },
   "outputs": [
    {
     "data": {
      "application/json": {
       "choices": [
        {
         "content_filter_results": {},
         "finish_reason": "tool_calls",
         "index": 0,
         "logprobs": null,
         "message": {
          "content": null,
          "function_call": null,
          "role": "assistant",
          "tool_calls": [
           {
            "function": {
             "arguments": "{\n  \"title\": \"Microsoft Meeting\",\n  \"date_and_time\": \"september 8 2024\",\n  \"invitees\": [\"Dor Avihu\", \"Shmuel Shalom\", \"Lyri Anderson\"]\n}",
             "name": "schedule_meeting"
            },
            "id": "call_Omc2s6ozXS5hioZi78oquqqd",
            "type": "function"
           }
          ]
         }
        }
       ],
       "created": 1718702475,
       "id": "chatcmpl-9bPJbMjXaSU9SqXqJnnpK0hKuNWGs",
       "model": "gpt-4-32k",
       "object": "chat.completion",
       "prompt_filter_results": [
        {
         "content_filter_results": {
          "hate": {
           "filtered": false,
           "severity": "safe"
          },
          "self_harm": {
           "filtered": false,
           "severity": "safe"
          },
          "sexual": {
           "filtered": false,
           "severity": "safe"
          },
          "violence": {
           "filtered": false,
           "severity": "safe"
          }
         },
         "prompt_index": 0
        }
       ],
       "system_fingerprint": null,
       "usage": {
        "completion_tokens": 56,
        "prompt_tokens": 255,
        "total_tokens": 311
       }
      },
      "text/plain": [
       "<IPython.core.display.JSON object>"
      ]
     },
     "execution_count": 15,
     "metadata": {
      "application/json": {
       "expanded": false,
       "root": "root"
      }
     },
     "output_type": "execute_result"
    }
   ],
   "source": [
    "response = client.chat.completions.create(\n",
    "    model = \"gpt-4-32k\",\n",
    "    messages = [{\"role\": \"system\", \"content\": system_message},\n",
    "                {\"role\": \"user\", \"content\":input_text}],\n",
    "    temperature= 0,\n",
    "    tools=tools, \n",
    "    tool_choice=\"auto\",\n",
    ")\n",
    "JSON(json.loads(response.model_dump_json()))"
   ]
  },
  {
   "cell_type": "code",
   "execution_count": 16,
   "id": "1802dffe-7d41-4785-965c-3b4664499b0e",
   "metadata": {},
   "outputs": [
    {
     "name": "stdout",
     "output_type": "stream",
     "text": [
      "assistant : None\n",
      "----------\n",
      "schedule_meeting : with args: {\n",
      "  \"title\": \"Microsoft Meeting\",\n",
      "  \"date_and_time\": \"september 8 2024\",\n",
      "  \"invitees\": [\"Dor Avihu\", \"Shmuel Shalom\", \"Lyri Anderson\"]\n",
      "}\n"
     ]
    }
   ],
   "source": [
    "print(response.choices[0].message.role, \":\",response.choices[0].message.content)\n",
    "print(\"----------\")\n",
    "print(response.choices[0].message.tool_calls[0].function.name, \": with args:\",response.choices[0].message.tool_calls[0].function.arguments)"
   ]
  },
  {
   "cell_type": "code",
   "execution_count": 17,
   "id": "22bc66eb-6a0d-460e-bda2-66333bb1097b",
   "metadata": {},
   "outputs": [
    {
     "data": {
      "text/plain": [
       "'Microsoft Meeting'"
      ]
     },
     "execution_count": 17,
     "metadata": {},
     "output_type": "execute_result"
    }
   ],
   "source": [
    "tool_calls = response.choices[0].message.tool_calls[0]\n",
    "function_name = tool_calls.function.name\n",
    "function_arguments = json.loads(tool_calls.function.arguments)\n",
    "function_arguments.get('title')"
   ]
  },
  {
   "cell_type": "markdown",
   "id": "013f111e-710f-497a-8375-1dc9aaa2806b",
   "metadata": {},
   "source": [
    "we get back the response and now we will pull out the tool calls:"
   ]
  },
  {
   "cell_type": "code",
   "execution_count": 18,
   "id": "99208602-f14a-4adb-8d2d-66110e590013",
   "metadata": {},
   "outputs": [
    {
     "data": {
      "text/plain": [
       "\"A new meeting 'Microsoft Meeting' at: september 8 2024, with invitees: ['Dor Avihu', 'Shmuel Shalom', 'Lyri Anderson'] created sucessefully\""
      ]
     },
     "execution_count": 18,
     "metadata": {},
     "output_type": "execute_result"
    }
   ],
   "source": [
    "tool_calls = response.choices[0].message.tool_calls[0]\n",
    "\n",
    "if tool_calls:\n",
    "    # To be able to use our tools we will need to create a mapping between the function name and the actual function object:\n",
    "    available_functions = {\n",
    "    \"schedule_meeting\": schedule_meeting\n",
    "    }\n",
    "    function_name = tool_calls.function.name\n",
    "    function_arguments = json.loads(tool_calls.function.arguments)\n",
    "    function_to_call = available_functions[function_name]\n",
    "    function_response = function_to_call(\n",
    "        title= function_arguments.get('title'),\n",
    "        date_and_time= function_arguments.get(\"date_and_time\"),\n",
    "        invitees= function_arguments.get(\"invitees\"),\n",
    "    )\n",
    "function_response"
   ]
  },
  {
   "cell_type": "code",
   "execution_count": null,
   "id": "754db47f-6641-4711-8664-6a403a2759cc",
   "metadata": {},
   "outputs": [],
   "source": []
  },
  {
   "cell_type": "code",
   "execution_count": null,
   "id": "a93122e1-954c-4ed2-b51d-50c012f8d28c",
   "metadata": {},
   "outputs": [],
   "source": []
  }
 ],
 "metadata": {
  "kernelspec": {
   "display_name": "Python 3 (ipykernel)",
   "language": "python",
   "name": "python3"
  },
  "language_info": {
   "codemirror_mode": {
    "name": "ipython",
    "version": 3
   },
   "file_extension": ".py",
   "mimetype": "text/x-python",
   "name": "python",
   "nbconvert_exporter": "python",
   "pygments_lexer": "ipython3",
   "version": "3.10.11"
  }
 },
 "nbformat": 4,
 "nbformat_minor": 5
}
