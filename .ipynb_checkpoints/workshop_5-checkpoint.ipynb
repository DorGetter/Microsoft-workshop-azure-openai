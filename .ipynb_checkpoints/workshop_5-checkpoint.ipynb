{
 "cells": [
  {
   "cell_type": "code",
   "execution_count": 1,
   "id": "2c28e4dd-2aac-44aa-bcba-2608280db1db",
   "metadata": {},
   "outputs": [],
   "source": [
    "import json\n",
    "import os\n",
    "import pandas as pd\n",
    "from IPython.display import JSON\n",
    "import sqlite3\n",
    "from termcolor import colored"
   ]
  },
  {
   "cell_type": "markdown",
   "id": "99de53a9-a2b9-4376-8540-720412cebdf5",
   "metadata": {},
   "source": [
    "# Workshop 5: Router Agent with Multiple Function Tools\n",
    "\n",
    "In this final workshop, we will integrate the various function calls we have developed in previous workshops into a single, cohesive router agent using Azure OpenAI. This router agent will be capable of handling complex user requests by utilizing multiple predefined function tools.\n",
    "\n",
    "We will cover the following steps:\n",
    "\n",
    "1. **Set Up the Environment:**\n",
    "   - Import the necessary libraries and helper modules containing our predefined function tools.\n",
    "   - Configure the Azure OpenAI client using the API key and endpoint.\n",
    "   - Connect to the SQLite database containing employee information to ensure it is accessible for querying employee details.\n",
    "\n",
    "2. **Define System and Tools:**\n",
    "   - Create a system message to set the context for the assistant, ensuring it understands its role and capabilities.\n",
    "   - Utilize predefined JSON objects for function calls, including detailed descriptions to ensure precise interactions and data retrieval from the database.\n",
    "   - List and map the predefined functions (e.g., scheduling meetings, sending emails, querying the database) and create tool definitions for these functions.\n",
    "\n",
    "3. **User Interaction and Integration:**\n",
    "   - Provide an example of a user interacting with the router agent, demonstrating how the agent can handle multiple tasks using the predefined function tools based on the user's requests.\n",
    "   - Implement an interactive chat loop where the agent processes user inputs, executes the necessary actions using the defined functions, and responds accordingly.\n",
    "\n",
    "Through this workshop, you will see how to integrate and utilize multiple function tools within a single agent to handle complex and multi-step user requests efficiently. This demonstration will show the practical application of combining various predefined function calls to create a robust and versatile assistant.\n"
   ]
  },
  {
   "cell_type": "code",
   "execution_count": 2,
   "id": "834260a5-402a-4b37-8e1e-05df8cdec48e",
   "metadata": {},
   "outputs": [
    {
     "name": "stdout",
     "output_type": "stream",
     "text": [
      "\u001b[34mTool: creating an email: Email to: recipient@example.com, Subject: Meeting Reminder, Body: This is a reminder for our meeting tomorrow., CC: cc1@example.com, cc2@example.com...\n",
      "\u001b[0m\n"
     ]
    }
   ],
   "source": [
    "from openai import AzureOpenAI\n",
    "from helpers.tools import func_tools, schedule_meeting, send_email, ask_database\n",
    "from helpers.utilities import *"
   ]
  },
  {
   "cell_type": "code",
   "execution_count": 13,
   "id": "162f5aa7-bac2-4c6b-88f5-b6f6c2c11703",
   "metadata": {},
   "outputs": [],
   "source": [
    "client = AzureOpenAI(\n",
    "    azure_endpoint=\"https://<ENDPOINT>.openai.azure.com/\",\n",
    "    api_key=\"<API_KEY>\",\n",
    "    api_version=\"2024-02-15-preview\"\n",
    ")"
   ]
  },
  {
   "cell_type": "code",
   "execution_count": 4,
   "id": "ff0af16d-545d-487d-9eb4-ae59afabd39b",
   "metadata": {},
   "outputs": [
    {
     "name": "stdout",
     "output_type": "stream",
     "text": [
      "Opened database successfully\n"
     ]
    }
   ],
   "source": [
    "conn = sqlite3.connect(\"employees.db\")\n",
    "cursor = conn.cursor()\n",
    "print(\"Opened database successfully\")"
   ]
  },
  {
   "cell_type": "code",
   "execution_count": 5,
   "id": "32be648f-cc09-4e59-a7aa-a3cb09fffd7c",
   "metadata": {},
   "outputs": [],
   "source": [
    "available_functions = {\n",
    "    \"schedule_meeting\": schedule_meeting,\n",
    "    \"send_email\": send_email,\n",
    "    \"ask_database\": ask_database,\n",
    "}"
   ]
  },
  {
   "cell_type": "code",
   "execution_count": 6,
   "id": "6beba340-cda5-486b-8d8f-c066e7727088",
   "metadata": {},
   "outputs": [
    {
     "data": {
      "application/json": {
       "ask_db_tool": {
        "function": {
         "description": "\nUse this function to query the Employees database.\nThe database contains the following schema:\nTable: Employees\nColumns: id, first_name, last_name, phone_number, email_address, role, rank, country\nPossible values for columns:\n- role: Manager, Developer, HR\n- rank: senior, mid, junior\n- country: IL, US, UK\nThe input should be a fully formed SQL query.",
         "name": "ask_database",
         "parameters": {
          "properties": {
           "query": {
            "description": "\nSQL query extracting info to answer the user's question.\nSQL should be written using this database schema:\nTable: Employees\nColumns: id, first_name, last_name, phone_number, email_address, role, rank, country\nThe query should be returned in plain text, not in JSON.\n                                ",
            "type": "string"
           }
          },
          "required": [
           "query"
          ],
          "type": "object"
         }
        },
        "type": "function"
       },
       "schedule_meeting_tool": {
        "function": {
         "description": "Schedules a new meeting with a specified title, date and time, and list of invitees.",
         "name": "schedule_meeting",
         "parameters": {
          "properties": {
           "date_and_time": {
            "description": "The date and time of the meeting in a specified format.",
            "type": "string"
           },
           "invitees": {
            "description": "A list of invitees' names or email addresses.",
            "items": {
             "type": "string"
            },
            "type": "array"
           },
           "title": {
            "description": "The title of the meeting.",
            "type": "string"
           }
          },
          "required": [
           "title",
           "date_and_time",
           "invitees"
          ],
          "type": "object"
         }
        },
        "type": "function"
       },
       "send_email_tool": {
        "function": {
         "description": "When a user asks to send an email, ensure the following information is provided: 1. to: Recipient's email address (string) 2. subject: Email subject (string). If not specified, generate a suitable subject. 3. body: Email body content (string). Rephrase the user's input into a professional format if needed. cc: (Optional) List of email addresses to CC (array of strings)",
         "name": "send_email",
         "parameters": {
          "properties": {
           "body": {
            "description": "The body (content) of the email",
            "type": "string"
           },
           "cc": {
            "description": "A list of email addresses to CC.",
            "items": {
             "type": "string"
            },
            "type": "array"
           },
           "subject": {
            "description": "The subject of the email.",
            "type": "string"
           },
           "to": {
            "description": "The recipient's email address.",
            "type": "string"
           }
          },
          "required": [
           "title",
           "date_and_time",
           "invitees"
          ],
          "type": "object"
         }
        },
        "type": "function"
       }
      },
      "text/plain": [
       "<IPython.core.display.JSON object>"
      ]
     },
     "execution_count": 6,
     "metadata": {
      "application/json": {
       "expanded": false,
       "root": "root"
      }
     },
     "output_type": "execute_result"
    }
   ],
   "source": [
    "tools = list(func_tools.values())\n",
    "JSON(func_tools)"
   ]
  },
  {
   "cell_type": "code",
   "execution_count": 11,
   "id": "f2688784-b355-4c78-b4bc-09fef6b5bd61",
   "metadata": {},
   "outputs": [],
   "source": [
    "system_prompt = \"\"\"**System Prompt: Microsoft Assistant Chatbot**\n",
    "\n",
    "**Role:** You are a chatbot designed to assist users within the Microsoft ecosystem. You can converse with users, answer their questions using your internal knowledge, and perform specific tasks using your function tools.\n",
    "\n",
    "**Capabilities:**\n",
    "1. **Send an Email:** Compose and send emails on behalf of the user.\n",
    "2. **Schedule a Meeting:** Arrange meetings and add them to calendars.\n",
    "3. **Search Employee Information:** Query the Employee table in SQL to retrieve information about employees.\n",
    "\n",
    "**Chain of Thoughts:**\n",
    "\n",
    "1. **Understand the User Request:**\n",
    "   - Carefully read and comprehend the user's request.\n",
    "   - Identify the main tasks and any subtasks.\n",
    "\n",
    "2. **Task Identification:**\n",
    "   - Determine the primary tasks (e.g., sending an email, scheduling a meeting).\n",
    "   - Recognize any dependencies (e.g., needing an email address before sending an email).\n",
    "\n",
    "3. **Gather Necessary Information:**\n",
    "   - Check if all required information is provided.\n",
    "   - If any information is missing, identify the steps to acquire it (e.g., querying the Employee table).\n",
    "\n",
    "4. **Execute Tasks Sequentially:**\n",
    "   - **Step 1:** For sending an email:\n",
    "     - Check if the recipient's email address is provided.\n",
    "     - If not, query the Employee table for the email address.\n",
    "     - Construct the email with the given message and send it.\n",
    "     - Confirm the email was sent successfully.\n",
    "   - **Step 2:** For scheduling a meeting:\n",
    "     - Use the provided details (date, time, participants) to schedule the meeting.\n",
    "     - Confirm the meeting was scheduled successfully.\n",
    "\n",
    "**Example Workflow:**\n",
    "\n",
    "- **User Request:** \"Please send an email to Ben Almo saying that I will be available for our meeting and schedule a meeting with him on September 8, 2025, at 08:00 AM.\"\n",
    "\n",
    "  **Chain of Thoughts:**\n",
    "  - **Step 1:** Identify tasks: Send an email and schedule a meeting.\n",
    "  - **Step 2:** Check if Ben Almo's email address is provided.\n",
    "    - If not, query the Employee table for Ben Almo's email address.\n",
    "  - **Step 3:** Construct the email with the message: \"I will be available for our meeting.\"\n",
    "  - **Step 4:** Send the email and confirm success.\n",
    "  - **Step 5:** Schedule a meeting on September 8, 2025, at 08:00 AM with Ben Almo.\n",
    "  - **Step 6:** Confirm the meeting was scheduled successfully.\n",
    "\n",
    "**General Guidelines:**\n",
    "- **Conversational Engagement:** Maintain a friendly and professional tone.\n",
    "- **Precision:** Ask for specific missing information if required.\n",
    "- **Confirmation:** Provide confirmation messages after successfully completing each task.\n",
    "- **Error Handling:** Notify the user if any issues arise and provide possible solutions.\n",
    "\n",
    "**IMPORTANT:** Each time you use a tool, explicitly state your actions (e.g., \"using tool\", \"I need to use __ for ___\"). if you will not create a Thought of what is the next step I WILL BE MAD!\n",
    "\"\"\""
   ]
  },
  {
   "cell_type": "markdown",
   "id": "472fa223-9cd9-4423-a145-d4d912126867",
   "metadata": {},
   "source": [
    "- can you tell me the names of managers in our company?\n",
    "- can you give me the email address of Bob Brown?\n",
    "- ok send to Bob Brown an email tell him that I will be late today.\n",
    "- can you also schedule a meeting with him?\n",
    "-  yes, so schedule it to 08:00 for the 21 to september\n",
    "\n",
    "more complex example:\n",
    "- \"\"\"send an email to all managers say \"Dear Managers, as we conclude this year, I wish next year to be as successful as this one.\" and schedule a meeting with all of them on 03/06/2024 at 08:00am \"\"\""
   ]
  },
  {
   "cell_type": "code",
   "execution_count": 12,
   "id": "c94da2fd-accb-4975-8819-2b21670c13b0",
   "metadata": {},
   "outputs": [
    {
     "name": "stdout",
     "output_type": "stream",
     "text": [
      "---------------------------------------------------\n",
      "starting conversation:\n",
      "------------------------------------------------------------\n"
     ]
    },
    {
     "name": "stdin",
     "output_type": "stream",
     "text": [
      "user:  send an email to all managers say \"Dear Managers, as we conclude this year, I wish next year to be as successful as this one.\" and schedule a meeting with all of them on 03/06/2024 at 08:00am\n"
     ]
    },
    {
     "name": "stdout",
     "output_type": "stream",
     "text": [
      "\u001b[31massistant: To complete your request, I need to perform two tasks: sending an email and scheduling a meeting. \n",
      "\n",
      "First, I will use the `ask_database` function to retrieve the email addresses of all managers from the Employees database. \n",
      "\n",
      "Let's start with that.\u001b[0m\n",
      "\u001b[34m\n",
      "Tool: asking database for: SELECT email_address FROM Employees WHERE role = 'Manager'\n",
      "\u001b[0m\n",
      "\u001b[31massistant: I have successfully retrieved the email addresses of all managers. Now, I will use the `send_email` function to send an email to all of them with the message \"Dear Managers, as we conclude this year, I wish next year to be as successful as this one.\" Let's proceed with that.\u001b[0m\n",
      "\u001b[34mTool: creating an email: Email to: ['john.doe@example.com', 'bob.brown@example.com', 'eve.miller@example.com', 'hank.anderson@example.com', 'kathy.white@example.com', 'nina.thompson@example.com', 'quincy.robinson@example.com', 'tina.walker@example.com', 'wendy.young@example.com', 'zane.green@example.com'], Subject: End of Year Message, Body: Dear Managers, as we conclude this year, I wish next year to be as successful as this one....\n",
      "\u001b[0m\n",
      "\u001b[31massistant: The email has been successfully sent to all managers. \n",
      "\n",
      "Next, I will use the `schedule_meeting` function to schedule a meeting with all of them on 03/06/2024 at 08:00 AM. Let's proceed with that.\u001b[0m\n",
      "\u001b[34m\n",
      "Tool: scheduling a meeting: 'Managers Meeting' at: 03/06/2024 08:00 AM, with invitees: ['john.doe@example.com', 'bob.brown@example.com', 'eve.miller@example.com', 'hank.anderson@example.com', 'kathy.white@example.com', 'nina.thompson@example.com', 'quincy.robinson@example.com', 'tina.walker@example.com', 'wendy.young@example.com', 'zane.green@example.com']\n",
      "\u001b[0m\n",
      "\u001b[31massistant: The meeting titled \"Managers Meeting\" has been successfully scheduled for 03/06/2024 at 08:00 AM with all managers. \n",
      "\n",
      "Is there anything else you would like me to assist you with?\u001b[0m\n"
     ]
    },
    {
     "name": "stdin",
     "output_type": "stream",
     "text": [
      "user:  END\n"
     ]
    }
   ],
   "source": [
    "\n",
    "memory = []\n",
    "memory = append_to_history(\"system\", system_prompt, memory)\n",
    "print(\"---------------------------------------------------\\nstarting conversation:\\n------------------------------------------------------------\")\n",
    "while True:\n",
    "    user_input = input(\"user: \")\n",
    "    if user_input == \"END\":\n",
    "        break;\n",
    "    memory = append_to_history(\"user\", user_input, memory)\n",
    "    response = create_chat_response(client, tools, memory)\n",
    "    memory.append(response.choices[0].message)\n",
    "    using_tool = response.choices[0].message.tool_calls\n",
    "    chain = False\n",
    "    if using_tool:\n",
    "        pretty_print(response)\n",
    "        while using_tool:\n",
    "            chain = True\n",
    "            tool_calls = response.choices[0].message.tool_calls[0]\n",
    "            function_name = tool_calls.function.name\n",
    "            function_arguments = json.loads(tool_calls.function.arguments)\n",
    "            function_to_call = available_functions[function_name]\n",
    "            if function_name == \"ask_database\":\n",
    "                function_arguments['conn'] = conn\n",
    "                function_response = function_to_call(**function_arguments)\n",
    "                memory = append_to_history(role=\"tool\", content=function_response, tool_id=tool_calls.id,\n",
    "                                           function_name=function_name, memory=memory)\n",
    "            else:\n",
    "                function_response = function_to_call(**function_arguments)\n",
    "                memory = append_to_history(role=\"tool\", content=function_response, tool_id=tool_calls.id,\n",
    "                                           function_name=function_name, memory=memory)\n",
    "\n",
    "            response = create_chat_response(client=client, tools=tools, memory=memory)\n",
    "            pretty_print(response)\n",
    "            memory.append(response.choices[0].message)\n",
    "            using_tool = response.choices[0].message.tool_calls\n",
    "    else:\n",
    "        pretty_print(response)"
   ]
  },
  {
   "cell_type": "markdown",
   "id": "90784661-74d8-4f8a-a845-1287b997758a",
   "metadata": {},
   "source": [
    "# Challenge: Implement Additional Tools for the Router Agent\n",
    "\n",
    "In this challenge, you will expand the capabilities of our router agent by adding a new function tool. This exercise will help you understand how to integrate additional functionality into the agent, enhancing its ability to handle a wider range of user requests.\n",
    "\n",
    "## Challenge Objective\n",
    "\n",
    "1. **Understand the Existing Framework:**\n",
    "   - Review the predefined function tools and their integration into the router agent.\n",
    "   - Understand the structure of the function call JSON objects and how they interact with the agent.\n",
    "\n",
    "2. **Implement a New Function Tool:**\n",
    "   - Create a new function tool to manage a to-do list by adding tasks and retrieving the list of tasks.\n",
    "   - Ensure the tool is well-documented with a clear description and parameter definitions.\n",
    "\n",
    "### Tool: To-Do List Manager\n",
    "\n",
    "Create a tool that allows the user to add tasks to a to-do list and retrieve the list of tasks. This tool should handle adding a task with a description and retrieving the current list of tasks.\n",
    "\n",
    "\n",
    "### Instructions:\n",
    "\n",
    "1. Integrate the New Tool:\n",
    "\n",
    "- Add the new function tool (manage_todo) to the router agent.\n",
    "- Update the list of available functions and their mappings.\n",
    "\n",
    "2. Test the New Tool:\n",
    "- Interact with the agent to test the new tool, ensuring it functions correctly.\n",
    "- Verify that the agent can handle multiple tasks seamlessly.\n",
    "\n",
    "By completing this challenge, you will enhance your understanding of integrating additional function tools into an agent and improve your ability to handle complex user interactions.\n",
    "\n",
    "\n",
    "<details>\n",
    "<summary>Click me for the solution</summary>\n",
    "\n",
    "**Python Function:**\n",
    "```python\n",
    "todo_list = []\n",
    "\n",
    "def manage_todo(action: str, task: str = None):\n",
    "    if action == \"add\" and task:\n",
    "        todo_list.append(task)\n",
    "        return {\"message\": \"Task added successfully.\", \"task\": task}\n",
    "    elif action == \"retrieve\":\n",
    "        return {\"todo_list\": todo_list}\n",
    "    else:\n",
    "        return {\"error\": \"Invalid action or missing task.\"}\n",
    "```\n",
    "\n",
    "\n",
    "**Integration Steps:**\n",
    "1. Add the Function Tool to the List of Available Functions:\n",
    "```python\n",
    "available_functions = {\n",
    "    \"manage_todo\": manage_todo,\n",
    "    # Add other functions here\n",
    "}\n",
    "```\n",
    "2. Update the Router Agent to Handle the New Tool:\n",
    "Ensure the tools list includes the manage_todo tool and the agent can call it when requested.\n",
    "\n",
    "3. Test the Integration:\n",
    "Test adding and retrieving tasks using the agent to ensure the new tool works as expected.\n",
    "\n",
    "</details>\n",
    "\n"
   ]
  },
  {
   "cell_type": "code",
   "execution_count": null,
   "id": "eb0278d5-038d-4818-a7e4-badd1cfab52a",
   "metadata": {},
   "outputs": [],
   "source": []
  },
  {
   "cell_type": "code",
   "execution_count": null,
   "id": "2eb3e270-92dc-4d82-987d-e29a73ca5a20",
   "metadata": {},
   "outputs": [],
   "source": []
  }
 ],
 "metadata": {
  "kernelspec": {
   "display_name": "Python 3 (ipykernel)",
   "language": "python",
   "name": "python3"
  },
  "language_info": {
   "codemirror_mode": {
    "name": "ipython",
    "version": 3
   },
   "file_extension": ".py",
   "mimetype": "text/x-python",
   "name": "python",
   "nbconvert_exporter": "python",
   "pygments_lexer": "ipython3",
   "version": "3.10.11"
  }
 },
 "nbformat": 4,
 "nbformat_minor": 5
}
