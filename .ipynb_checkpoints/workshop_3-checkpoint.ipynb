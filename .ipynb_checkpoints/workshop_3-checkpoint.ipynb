{
 "cells": [
  {
   "cell_type": "code",
   "execution_count": 203,
   "id": "2c28e4dd-2aac-44aa-bcba-2608280db1db",
   "metadata": {},
   "outputs": [],
   "source": [
    "import json\n",
    "from IPython.display import JSON"
   ]
  },
  {
   "cell_type": "markdown",
   "id": "99de53a9-a2b9-4376-8540-720412cebdf5",
   "metadata": {},
   "source": [
    "# Workshop 3: Email Sender & Rewriter\n",
    "\n",
    "In this workshop, we will explore a more complex usage of Function Calls in ChatCompletion using Azure OpenAI. We will create an interactive chat system that can send and rewrite emails based on user input.\n",
    "\n",
    "## Table of Contents\n",
    "\n",
    "1. [Introduction](#Introduction)\n",
    "2. [Creating a Simple Function](#Creating-a-Simple-Function)\n",
    "3. [Creating JSON Function Tool for Azure OpenAI](#Creating-JSON-Function-Tool-for-Azure-OpenAI)\n",
    "4. [Using the Function Tool in the ChatCompletion Request](#Using-the-Function-Tool-in-the-ChatCompletion-Request)\n",
    "5. [Creating a Chat Loop for Interactive Function Calls](#Creating-a-Chat-Loop-for-Interactive-Function-Calls)\n",
    "\n",
    "### Introduction\n",
    "\n",
    "In this workshop, we will cover the following:\n",
    "\n",
    "1. **Creating a Simple Function**: Define a function to simulate sending an email.\n",
    "2. **Creating JSON Function Tool for Azure OpenAI**: Create a JSON representation of the function to instruct the OpenAI model on how to call it.\n",
    "3. **Using the Function Tool in the ChatCompletion Request**: Integrate the function tool into the ChatCompletion request to handle user requests for sending emails.\n",
    "4. **Creating a Chat Loop for Interactive Function Calls**: Implement a chat loop to continuously interact with the user and invoke the function as needed.\n",
    "\n",
    "Let's begin by importing the necessary libraries and setting up the Azure OpenAI client.\n",
    "\"\"\"\n"
   ]
  },
  {
   "cell_type": "markdown",
   "id": "fa67ced4-d2b1-4421-95f8-53f19822c202",
   "metadata": {},
   "source": [
    "We will use the imports, functions mentioned in workshop_1 "
   ]
  },
  {
   "cell_type": "code",
   "execution_count": 204,
   "id": "834260a5-402a-4b37-8e1e-05df8cdec48e",
   "metadata": {},
   "outputs": [],
   "source": [
    "from openai import AzureOpenAI"
   ]
  },
  {
   "cell_type": "code",
   "execution_count": 205,
   "id": "162f5aa7-bac2-4c6b-88f5-b6f6c2c11703",
   "metadata": {},
   "outputs": [],
   "source": [
    "client = AzureOpenAI(\n",
    "    azure_endpoint=\"https://testopenai4.openai.azure.com/\",\n",
    "    api_key=\"19f61bb2a418484dbe809cb720c2527b\",\n",
    "    api_version=\"2024-02-15-preview\"\n",
    ")"
   ]
  },
  {
   "cell_type": "markdown",
   "id": "cf591cc3-fdb6-4fc2-90e3-48e862e5ba91",
   "metadata": {},
   "source": [
    "## 1. Creating a function:\n",
    "We will define a function that simulates sending an email. This function will accept the recipient's email address, subject, body content, and an optional list of CC addresses, and return a confirmation message.\n"
   ]
  },
  {
   "cell_type": "code",
   "execution_count": 206,
   "id": "71a97cbf-bf2f-4df8-a830-780af0c25ba6",
   "metadata": {},
   "outputs": [],
   "source": [
    "def send_email(to: str, subject: str, body: str, cc: list = None):\n",
    "    \"\"\"Simulates sending an email by returning a string with all the provided parameters.\"\"\"\n",
    "    email_details = f\"Email to: {to}\\nSubject: {subject}\\nBody: {body}\"\n",
    "    if cc:\n",
    "        email_details += f\"\\nCC: {', '.join(cc)}\"\n",
    "    return email_details + \" has been sent successfully!\""
   ]
  },
  {
   "cell_type": "code",
   "execution_count": 207,
   "id": "6f991d67-1e6f-405c-b17e-93280ad104b2",
   "metadata": {},
   "outputs": [
    {
     "data": {
      "text/plain": [
       "'Email to: recipient@example.com\\nSubject: Meeting Reminder\\nBody: This is a reminder for our meeting tomorrow.\\nCC: cc1@example.com, cc2@example.com has been sent successfully!'"
      ]
     },
     "execution_count": 207,
     "metadata": {},
     "output_type": "execute_result"
    }
   ],
   "source": [
    "send_email(\n",
    "    to=\"recipient@example.com\",\n",
    "    subject=\"Meeting Reminder\",\n",
    "    body=\"This is a reminder for our meeting tomorrow.\",\n",
    "    cc=[\"cc1@example.com\", \"cc2@example.com\"],\n",
    ")"
   ]
  },
  {
   "cell_type": "markdown",
   "id": "1bdf156d-e2bb-4ddf-98f7-5deb7d6085fc",
   "metadata": {},
   "source": [
    "## 2. Creating a Function Call JSON\n",
    "\n",
    "We will create a JSON representation of our email sending function. This JSON will be used to instruct the OpenAI model on how to call the function.\n",
    "\n",
    "### Optional Parameters\n",
    "\n",
    "In this function, we include an optional `cc` parameter. Optional parameters are not required for the function to execute but can provide additional functionality if specified by the user. This allows the model to handle cases where the user may or may not provide additional information.\n",
    "\n",
    "<details>\n",
    "  <summary>Click to expand full example</summary>\n",
    "\n",
    "  ```json\n",
    "  {\n",
    "    \"type\": \"object\",\n",
    "    \"properties\": {\n",
    "      \"to\": { \"type\": \"string\", \"description\": \"The recipient's email address.\" },\n",
    "      \"subject\": { \"type\": \"string\", \"description\": \"The subject of the email.\" },\n",
    "      \"body\": { \"type\": \"string\", \"description\": \"The body (content) of the email.\" },\n",
    "      \"cc\": { \"type\": \"array\", \"items\": { \"type\": \"string\" }, \"description\": \"A list of email addresses to CC.\" }\n",
    "    },\n",
    "    \"required\": [\"to\", \"subject\", \"body\"]\n",
    "  }\n",
    "```\n",
    "</details>\n"
   ]
  },
  {
   "cell_type": "code",
   "execution_count": 208,
   "id": "7aa021e2-75c5-414d-a25b-53110fbe569e",
   "metadata": {},
   "outputs": [],
   "source": [
    "send_email_tool = {\n",
    "    \"type\": \"function\",\n",
    "    \"function\": {\n",
    "        \"name\": \"send_email\",\n",
    "        \"description\": \"When a user asks to send an email, ensure the following information is provided: 1. to: Recipient's email address (string) 2. subject: Email subject (string). If not specified, generate a suitable subject. 3. body: Email body content (string). Rephrase the user's input into a professional format if needed. cc: (Optional) List of email addresses to CC (array of strings)\",\n",
    "        \"parameters\": {\n",
    "            \"type\": \"object\",\n",
    "            \"properties\": {\n",
    "                \"to\": {\n",
    "                    \"type\": \"string\",\n",
    "                    \"description\": \"The recipient's email address.\"\n",
    "                },\n",
    "                \"subject\": {\n",
    "                    \"type\": \"string\",\n",
    "                    \"description\": \"The subject of the email.\"\n",
    "                },\n",
    "                  \"body\": {\n",
    "                    \"type\": \"string\",\n",
    "                    \"description\": \"The body (content) of the email\"\n",
    "                },\n",
    "                \"cc\": {\n",
    "                    \"type\": \"array\",\n",
    "                    \"items\": {\n",
    "                        \"type\": \"string\"\n",
    "                    },\n",
    "                    \"description\": \"A list of email addresses to CC.\"\n",
    "                }\n",
    "            },\n",
    "            \"required\": [\"title\", \"date_and_time\", \"invitees\"],\n",
    "        },\n",
    "    }\n",
    "}"
   ]
  },
  {
   "cell_type": "markdown",
   "id": "c781d142-a85b-492f-beac-057300aa255a",
   "metadata": {},
   "source": [
    "## 3. Using the Function Tool in ChatCompletion\n",
    "\n",
    "We will demonstrate how to integrate the email sending function into the ChatCompletion request, enabling the model to handle user requests for sending emails.\n"
   ]
  },
  {
   "cell_type": "code",
   "execution_count": 209,
   "id": "78ee30fa-1ea9-4f9b-b7c8-26fe744f6a54",
   "metadata": {},
   "outputs": [],
   "source": [
    "system_message = \"\"\"\n",
    "You are an assistant chatbot capable of sending emails.\n",
    "When requested to send an email make sure that you have the 'to' field. If the 'to' parameter is missing ask specifically for it.\n",
    "other fields you can generate yourself if needed. try avoid asking for information from the user unless the user didnt specify the 'to' and there is no body at all.\n",
    "Do not confirm with the user if you been able to construct the email.\n",
    "\n",
    "User Details: Dor Getter\n",
    "\"\"\"\n",
    "input_text = \"send a email to Shalom@microsoft.com, tell him that I want to check up on his work, and I would like him to schedule a meeting for tomorrow.\"\n",
    "tools = [send_email_tool]"
   ]
  },
  {
   "cell_type": "code",
   "execution_count": 210,
   "id": "80deb8dc-f318-4720-a788-9697f503cea4",
   "metadata": {
    "scrolled": true
   },
   "outputs": [
    {
     "data": {
      "application/json": {
       "choices": [
        {
         "content_filter_results": {},
         "finish_reason": "tool_calls",
         "index": 0,
         "logprobs": null,
         "message": {
          "content": null,
          "function_call": null,
          "role": "assistant",
          "tool_calls": [
           {
            "function": {
             "arguments": "{\n  \"to\": \"Shalom@microsoft.com\",\n  \"subject\": \"Request for Work Update and Meeting Schedule\",\n  \"body\": \"Dear Shalom, \\n\\nI hope this email finds you well. I am writing to check up on your work progress and would appreciate if you could provide me with an update at your earliest convenience. \\n\\nAdditionally, I would like to schedule a meeting for tomorrow to discuss further details. Please let me know a time that works best for you. \\n\\nLooking forward to your response. \\n\\nBest regards, \\nDor Getter\"\n}",
             "name": "send_email"
            },
            "id": "call_IKuXKc1jYAhQgvsOShYrsJmz",
            "type": "function"
           }
          ]
         }
        }
       ],
       "created": 1718702530,
       "id": "chatcmpl-9bPKUj5VGsKEzZnXHdZvE7g2IFc8o",
       "model": "gpt-4-32k",
       "object": "chat.completion",
       "prompt_filter_results": [
        {
         "content_filter_results": {
          "hate": {
           "filtered": false,
           "severity": "safe"
          },
          "self_harm": {
           "filtered": false,
           "severity": "safe"
          },
          "sexual": {
           "filtered": false,
           "severity": "safe"
          },
          "violence": {
           "filtered": false,
           "severity": "safe"
          }
         },
         "prompt_index": 0
        }
       ],
       "system_fingerprint": null,
       "usage": {
        "completion_tokens": 130,
        "prompt_tokens": 304,
        "total_tokens": 434
       }
      },
      "text/plain": [
       "<IPython.core.display.JSON object>"
      ]
     },
     "execution_count": 210,
     "metadata": {
      "application/json": {
       "expanded": false,
       "root": "root"
      }
     },
     "output_type": "execute_result"
    }
   ],
   "source": [
    "response = client.chat.completions.create(\n",
    "    model = \"gpt-4-32k\",\n",
    "    messages = [{\"role\": \"system\", \"content\": system_message},\n",
    "                {\"role\": \"user\", \"content\":input_text}],\n",
    "    temperature= 0,\n",
    "    tools=tools, \n",
    "    tool_choice=\"auto\",\n",
    ")\n",
    "JSON(json.loads(response.model_dump_json()))"
   ]
  },
  {
   "cell_type": "code",
   "execution_count": 211,
   "id": "1802dffe-7d41-4785-965c-3b4664499b0e",
   "metadata": {},
   "outputs": [
    {
     "name": "stdout",
     "output_type": "stream",
     "text": [
      "assistant : None\n",
      "----------\n",
      "send_email : with args: {\n",
      "  \"to\": \"Shalom@microsoft.com\",\n",
      "  \"subject\": \"Request for Work Update and Meeting Schedule\",\n",
      "  \"body\": \"Dear Shalom, \\n\\nI hope this email finds you well. I am writing to check up on your work progress and would appreciate if you could provide me with an update at your earliest convenience. \\n\\nAdditionally, I would like to schedule a meeting for tomorrow to discuss further details. Please let me know a time that works best for you. \\n\\nLooking forward to your response. \\n\\nBest regards, \\nDor Getter\"\n",
      "}\n"
     ]
    }
   ],
   "source": [
    "print(response.choices[0].message.role, \":\",response.choices[0].message.content)\n",
    "print(\"----------\")\n",
    "print(response.choices[0].message.tool_calls[0].function.name, \": with args:\",response.choices[0].message.tool_calls[0].function.arguments)"
   ]
  },
  {
   "cell_type": "markdown",
   "id": "013f111e-710f-497a-8375-1dc9aaa2806b",
   "metadata": {},
   "source": [
    "we get back the response and now we will pull out the tool calls:"
   ]
  },
  {
   "cell_type": "code",
   "execution_count": 212,
   "id": "99208602-f14a-4adb-8d2d-66110e590013",
   "metadata": {},
   "outputs": [
    {
     "data": {
      "text/plain": [
       "'Email to: Shalom@microsoft.com\\nSubject: Request for Work Update and Meeting Schedule\\nBody: Dear Shalom, \\n\\nI hope this email finds you well. I am writing to check up on your work progress and would appreciate if you could provide me with an update at your earliest convenience. \\n\\nAdditionally, I would like to schedule a meeting for tomorrow to discuss further details. Please let me know a time that works best for you. \\n\\nLooking forward to your response. \\n\\nBest regards, \\nDor Getter has been sent successfully!'"
      ]
     },
     "execution_count": 212,
     "metadata": {},
     "output_type": "execute_result"
    }
   ],
   "source": [
    "tool_calls = response.choices[0].message.tool_calls[0]\n",
    "\n",
    "if tool_calls:\n",
    "    # To be able to use our tools we will need to create a mapping between the function name and the actual function object:\n",
    "    available_functions = {\n",
    "    \"send_email\": send_email\n",
    "    }\n",
    "    function_name = tool_calls.function.name\n",
    "    function_arguments = json.loads(tool_calls.function.arguments)\n",
    "    function_to_call = available_functions[function_name]\n",
    "    function_response = function_to_call(\n",
    "        to= function_arguments.get('to'),\n",
    "        body= function_arguments.get(\"body\"),\n",
    "        subject= function_arguments.get(\"subject\"),\n",
    "    )\n",
    "function_response"
   ]
  },
  {
   "cell_type": "markdown",
   "id": "e9e43ba9-4f87-4bbf-8007-4eeca50c433b",
   "metadata": {},
   "source": [
    "## 4. Creating a Chat Loop for Interactive Function Calls\n",
    "\n",
    "We will create a chat loop that continuously interacts with the user, gathers necessary fields for the function call, and invokes the function to send emails based on user input."
   ]
  },
  {
   "cell_type": "code",
   "execution_count": 213,
   "id": "ddd6b933-a40d-4584-93a0-2879b7469e63",
   "metadata": {},
   "outputs": [],
   "source": [
    "def append_to_history(role: str, content: str, memory: list[dict], tool_id=None, function_name=None):\n",
    "    if role == \"system\":\n",
    "        memory.append({\"role\": \"system\", \"content\":content})\n",
    "    if role == \"user\":\n",
    "        memory.append({\"role\": \"user\", \"content\":content})\n",
    "    if role == \"assistant\":\n",
    "        memory.append({\"role\": \"assistant\", \"content\":content})\n",
    "    if role == \"tool\":\n",
    "        memory.append({\"role\": \"tool\", \"tool_call_id\": tool_id,  \"name\": function_name, \"content\": content})\n",
    "    return memory\n",
    "\n",
    "def create_chat_response(client, tools, memory, tool_choice=\"auto\"):\n",
    "    return client.chat.completions.create(\n",
    "    model = \"gpt-4-32k\",\n",
    "    temperature = 0,\n",
    "    n=1,\n",
    "    tools=tools,\n",
    "    tool_choice=tool_choice,\n",
    "    messages = memory\n",
    "    )"
   ]
  },
  {
   "cell_type": "code",
   "execution_count": 214,
   "id": "37669ea0-01e4-495b-992b-e28cb4f98bcc",
   "metadata": {},
   "outputs": [],
   "source": [
    "system_message = \"\"\"\n",
    "You are an assistant chatbot capable of sending emails.\n",
    "When requested to send an email make sure that you have the 'to' field. If the 'to' parameter is missing ask specifically for it.\n",
    "other fields you can generate yourself if needed. try avoid asking for information from the user unless the user didnt specify the 'to' and there is no body at all.\n",
    "Do not confirm with the user if you been able to construct the email.\n",
    "\n",
    "User Details: Dor Getter\n",
    "\"\"\"\n",
    "\n",
    "\n",
    "# To be able to use our tools we will need to create a mapping between the function name and the actual function object:\n",
    "available_functions = {\n",
    "    \"send_email\": send_email\n",
    "    }"
   ]
  },
  {
   "cell_type": "code",
   "execution_count": 216,
   "id": "8591b600-4326-495d-979e-e240557370a4",
   "metadata": {},
   "outputs": [
    {
     "name": "stdin",
     "output_type": "stream",
     "text": [
      "user:  i want you to send an email to John@gmail.com tell him that im looking forward to meet him next week. set the tite to \"work meeting\".\n"
     ]
    },
    {
     "name": "stdout",
     "output_type": "stream",
     "text": [
      "tool : Email to: John@gmail.com\n",
      "Subject: work meeting\n",
      "Body: I'm looking forward to meeting you next week. has been sent successfully!\n",
      "assistant : I've sent the email to John@gmail.com with the subject \"work meeting\" and the message \"I'm looking forward to meeting you next week.\"\n"
     ]
    },
    {
     "name": "stdin",
     "output_type": "stream",
     "text": [
      "user:  thanks. can you tell me a short  line story?\n"
     ]
    },
    {
     "name": "stdout",
     "output_type": "stream",
     "text": [
      "assistant : Sure, here it is: \"In a bustling city, a lonely man found an abandoned puppy. They became each other's world, filling their days with joy and companionship.\"\n"
     ]
    },
    {
     "name": "stdin",
     "output_type": "stream",
     "text": [
      "user:  END\n"
     ]
    }
   ],
   "source": [
    "memory = []\n",
    "memory = append_to_history(\"system\", system_message, memory)\n",
    "while True:\n",
    "    user_input = input(\"user: \")\n",
    "    if user_input == \"END\":\n",
    "        break;\n",
    "    memory = append_to_history(\"user\", user_input, memory)\n",
    "    \n",
    "    response = create_chat_response(client, tools, memory)\n",
    "    memory.append(response.choices[0].message)\n",
    "    \n",
    "    using_tool = response.choices[0].message.tool_calls\n",
    "    if using_tool:\n",
    "        tool_calls = response.choices[0].message.tool_calls[0]\n",
    "        function_name = tool_calls.function.name\n",
    "        function_arguments = json.loads(tool_calls.function.arguments)\n",
    "        function_to_call = available_functions[function_name]\n",
    "        function_response = function_to_call(**function_arguments)\n",
    "        memory = append_to_history(role=\"tool\", content=function_response, tool_id=tool_calls.id,\n",
    "                                   function_name=function_name, memory=memory)\n",
    "        print(\"tool\", \":\", function_response)\n",
    "\n",
    "        second_response = create_chat_response(client=client, tools=None, memory=memory, tool_choice=None)\n",
    "        print(second_response.choices[0].message.role, \":\", second_response.choices[0].message.content)\n",
    "    else:\n",
    "        print(response.choices[0].message.role, \":\",response.choices[0].message.content)"
   ]
  },
  {
   "cell_type": "code",
   "execution_count": null,
   "id": "d5d10d37-57b2-4fbb-b1a7-927a80a143d4",
   "metadata": {},
   "outputs": [],
   "source": []
  },
  {
   "cell_type": "code",
   "execution_count": null,
   "id": "32ef237b-8544-4160-85eb-205bf41cdf62",
   "metadata": {},
   "outputs": [],
   "source": []
  }
 ],
 "metadata": {
  "kernelspec": {
   "display_name": "Python 3 (ipykernel)",
   "language": "python",
   "name": "python3"
  },
  "language_info": {
   "codemirror_mode": {
    "name": "ipython",
    "version": 3
   },
   "file_extension": ".py",
   "mimetype": "text/x-python",
   "name": "python",
   "nbconvert_exporter": "python",
   "pygments_lexer": "ipython3",
   "version": "3.10.11"
  }
 },
 "nbformat": 4,
 "nbformat_minor": 5
}
