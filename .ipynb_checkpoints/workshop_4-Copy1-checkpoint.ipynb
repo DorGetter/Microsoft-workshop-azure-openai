{
 "cells": [
  {
   "cell_type": "code",
   "execution_count": 12,
   "id": "2c28e4dd-2aac-44aa-bcba-2608280db1db",
   "metadata": {},
   "outputs": [],
   "source": [
    "import json\n",
    "import os\n",
    "import pandas as pd\n",
    "from IPython.display import JSON\n",
    "import sqlite3"
   ]
  },
  {
   "cell_type": "markdown",
   "id": "99de53a9-a2b9-4376-8540-720412cebdf5",
   "metadata": {},
   "source": [
    "# Workshop 4 (out of 5)\n",
    "In this workshop, we will go through a more complex usage of Function Calls in ChatCompletion using Azure OpenAI.\n",
    "we will create a chat interaction with the user and function calls and see how can we chat with the user to get the fields neccsary for run the function we need to invoke.\n",
    "\n",
    "we will cover the following:\n",
    "\n",
    "1. create a simple function.\n",
    "2. create JSON function tool for Azure OpenAI.\n",
    "3. How do you use the function tool in the ChatCompletion request\n",
    "4. create a chat loop that we can chat with our new function."
   ]
  },
  {
   "cell_type": "markdown",
   "id": "fa67ced4-d2b1-4421-95f8-53f19822c202",
   "metadata": {},
   "source": [
    "We will use the imports, functions mentioned in workshop_1 "
   ]
  },
  {
   "cell_type": "code",
   "execution_count": 13,
   "id": "834260a5-402a-4b37-8e1e-05df8cdec48e",
   "metadata": {},
   "outputs": [],
   "source": [
    "from openai import AzureOpenAI"
   ]
  },
  {
   "cell_type": "code",
   "execution_count": 14,
   "id": "162f5aa7-bac2-4c6b-88f5-b6f6c2c11703",
   "metadata": {},
   "outputs": [],
   "source": [
    "client = AzureOpenAI(\n",
    "    azure_endpoint=\"https://testopenai4.openai.azure.com/\",\n",
    "    api_key=\"19f61bb2a418484dbe809cb720c2527b\",\n",
    "    api_version=\"2024-02-15-preview\"\n",
    ")"
   ]
  },
  {
   "cell_type": "markdown",
   "id": "2b3bcb20-c695-4ff4-b886-76a2272f9f14",
   "metadata": {},
   "source": [
    "Creating the connection to the DB"
   ]
  },
  {
   "cell_type": "code",
   "execution_count": 15,
   "id": "383dff91-aa5d-4258-9323-d355e479628f",
   "metadata": {},
   "outputs": [
    {
     "name": "stdout",
     "output_type": "stream",
     "text": [
      "Opened database successfully\n"
     ]
    }
   ],
   "source": [
    "conn = sqlite3.connect(\"employees.db\")\n",
    "cursor = conn.cursor()\n",
    "print(\"Opened database successfully\")"
   ]
  },
  {
   "cell_type": "code",
   "execution_count": 16,
   "id": "248f6e04-2cdb-4eb7-b8f4-8399c4e5d071",
   "metadata": {},
   "outputs": [],
   "source": [
    "def get_table_names(conn):\n",
    "    \"\"\"Return a list of table names.\"\"\"\n",
    "    table_names = []\n",
    "    tables = conn.execute(\"SELECT name FROM sqlite_master WHERE type='table';\")\n",
    "    for table in tables.fetchall():\n",
    "        table_names.append(table[0])\n",
    "    return table_names\n",
    "\n",
    "def get_column_names(conn, table_name):\n",
    "    \"\"\"Return a list of column names.\"\"\"\n",
    "    column_names = []\n",
    "    columns = conn.execute(f\"PRAGMA table_info('{table_name}');\").fetchall()\n",
    "    for col in columns:\n",
    "        column_names.append(col[1])\n",
    "    return column_names\n",
    "\n",
    "def get_database_info(conn):\n",
    "    \"\"\"Return a list of dicts containing the table name and columns for each table in the database.\"\"\"\n",
    "    table_dicts = []\n",
    "    for table_name in get_table_names(conn):\n",
    "        columns_names = get_column_names(conn, table_name)\n",
    "        table_dicts.append({\"table_name\": table_name, \"column_names\": columns_names})\n",
    "    return table_dicts\n"
   ]
  },
  {
   "cell_type": "code",
   "execution_count": 17,
   "id": "4b89ec18-e09c-46f6-ba14-c87e5f190c1d",
   "metadata": {},
   "outputs": [
    {
     "data": {
      "application/json": [
       {
        "column_names": [
         "id",
         "first_name",
         "last_name",
         "phone_number",
         "email_address",
         "role",
         "rank",
         "country"
        ],
        "table_name": "Employees"
       }
      ],
      "text/plain": [
       "<IPython.core.display.JSON object>"
      ]
     },
     "execution_count": 17,
     "metadata": {
      "application/json": {
       "expanded": false,
       "root": "root"
      }
     },
     "output_type": "execute_result"
    }
   ],
   "source": [
    "database_schema_dict = get_database_info(conn)\n",
    "database_schema_string = \"\\n\".join(\n",
    "    [\n",
    "        f\"Table: {table['table_name']}\\nColumns: {', '.join(table['column_names'])}\" for table in database_schema_dict\n",
    "    ]\n",
    ")\n",
    "JSON(database_schema_dict)"
   ]
  },
  {
   "cell_type": "code",
   "execution_count": 18,
   "id": "f72819b8-9670-4f11-9489-2f07b26fb743",
   "metadata": {},
   "outputs": [],
   "source": [
    "# Possible values for columns\n",
    "role_values = [\"Manager\", \"Developer\", \"HR\"]\n",
    "rank_values = [\"senior\", \"mid\", \"junior\"]\n",
    "country_values = [\"IL\", \"US\", \"UK\"]"
   ]
  },
  {
   "cell_type": "code",
   "execution_count": 19,
   "id": "005dc97c-f7c0-44e5-bea8-f9a3479e21dc",
   "metadata": {},
   "outputs": [],
   "source": [
    "system_message = \"You are a helpful assistant.\""
   ]
  },
  {
   "cell_type": "code",
   "execution_count": 40,
   "id": "bd19b83e-ad30-4276-9048-3df84ff7bf41",
   "metadata": {},
   "outputs": [],
   "source": [
    "input_text = \"What is the capital of France?\""
   ]
  },
  {
   "cell_type": "code",
   "execution_count": 6,
   "id": "2aeb26b5-874f-436e-9634-f7682c58bf1e",
   "metadata": {},
   "outputs": [],
   "source": [
    "response = client.chat.completions.create(\n",
    "    model = \"gpt-4-preview-testing\",\n",
    "    messages = [{\"role\": \"system\", \"content\": system_message},\n",
    "                {\"role\": \"user\", \"content\":input_text}]\n",
    ")"
   ]
  },
  {
   "cell_type": "code",
   "execution_count": 7,
   "id": "8952154c-34ca-4191-b2f4-6f55568d5fb7",
   "metadata": {
    "scrolled": true
   },
   "outputs": [
    {
     "data": {
      "application/json": {
       "choices": [
        {
         "content_filter_results": {
          "hate": {
           "filtered": false,
           "severity": "safe"
          },
          "self_harm": {
           "filtered": false,
           "severity": "safe"
          },
          "sexual": {
           "filtered": false,
           "severity": "safe"
          },
          "violence": {
           "filtered": false,
           "severity": "safe"
          }
         },
         "finish_reason": "stop",
         "index": 0,
         "logprobs": null,
         "message": {
          "content": "The capital of France is Paris.",
          "function_call": null,
          "role": "assistant",
          "tool_calls": null
         }
        }
       ],
       "created": 1718620176,
       "id": "chatcmpl-9b3uCSgX8Wr3ychhljfLfrl52tkqL",
       "model": "gpt-4",
       "object": "chat.completion",
       "prompt_filter_results": [
        {
         "content_filter_results": {
          "hate": {
           "filtered": false,
           "severity": "safe"
          },
          "self_harm": {
           "filtered": false,
           "severity": "safe"
          },
          "sexual": {
           "filtered": false,
           "severity": "safe"
          },
          "violence": {
           "filtered": false,
           "severity": "safe"
          }
         },
         "prompt_index": 0
        }
       ],
       "system_fingerprint": "fp_811936bd4f",
       "usage": {
        "completion_tokens": 7,
        "prompt_tokens": 24,
        "total_tokens": 31
       }
      },
      "text/plain": [
       "<IPython.core.display.JSON object>"
      ]
     },
     "execution_count": 7,
     "metadata": {
      "application/json": {
       "expanded": false,
       "root": "root"
      }
     },
     "output_type": "execute_result"
    }
   ],
   "source": [
    "JSON(json.loads(response.model_dump_json()))"
   ]
  },
  {
   "cell_type": "markdown",
   "id": "229f8bef-558e-4026-a69c-4c34a97c119f",
   "metadata": {},
   "source": [
    "note: we can see that each run we will get different answer. "
   ]
  },
  {
   "cell_type": "code",
   "execution_count": 8,
   "id": "23a31ffa-75e1-4940-a618-fa44c6885cf9",
   "metadata": {},
   "outputs": [
    {
     "name": "stdout",
     "output_type": "stream",
     "text": [
      "assistant : The capital of France is Paris.\n"
     ]
    }
   ],
   "source": [
    "print(response.choices[0].message.role, \":\",response.choices[0].message.content)"
   ]
  },
  {
   "cell_type": "markdown",
   "id": "6cab1d07-68c3-4876-940a-9477cae8df04",
   "metadata": {},
   "source": [
    "#### 1.2.1 \n",
    "using the default setting, temperature will set to 0.8 by defualt. \n",
    "lets see what are the effects of temprature parameter"
   ]
  },
  {
   "cell_type": "code",
   "execution_count": 17,
   "id": "4da894ce-46ce-44ab-af87-faca150d7e7e",
   "metadata": {},
   "outputs": [],
   "source": [
    "input_text= \"Write a short 4 line MAX poem about a dragon who discovers a hidden treasure in an unexpected place.\""
   ]
  },
  {
   "cell_type": "code",
   "execution_count": 29,
   "id": "029c7938-f9ba-4ec5-9a86-c040ec4d9fe6",
   "metadata": {},
   "outputs": [
    {
     "name": "stdout",
     "output_type": "stream",
     "text": [
      "assistant : Beneath the moon's silken glow,\n",
      "A dragon found gold where wildflowers grow.\n",
      "In a meadow, not cave's shadowed crest,\n",
      "Lies the hoard now cradled in its gentle breast.\n"
     ]
    }
   ],
   "source": [
    "response = client.chat.completions.create(\n",
    "    model = \"gpt-4-preview-testing\",\n",
    "    messages = [{\"role\": \"user\", \"content\":input_text}]\n",
    ")\n",
    "print(response.choices[0].message.role, \":\",response.choices[0].message.content)"
   ]
  },
  {
   "cell_type": "code",
   "execution_count": 28,
   "id": "d77cbe76-68ef-4260-add8-758a1900879d",
   "metadata": {},
   "outputs": [
    {
     "data": {
      "application/json": {
       "choices": [
        {
         "content_filter_results": {
          "hate": {
           "filtered": false,
           "severity": "safe"
          },
          "self_harm": {
           "filtered": false,
           "severity": "safe"
          },
          "sexual": {
           "filtered": false,
           "severity": "safe"
          },
          "violence": {
           "filtered": false,
           "severity": "safe"
          }
         },
         "finish_reason": "stop",
         "index": 0,
         "logprobs": null,
         "message": {
          "content": "In a glade where moonlight weaves,\nA dragon finds beneath the leaves,\nNot gold nor gem that softly gleams,\nBut the treasure trove of ancient dreams.",
          "function_call": null,
          "role": "assistant",
          "tool_calls": null
         }
        }
       ],
       "created": 1718621606,
       "id": "chatcmpl-9b4HGkEglY2VsdiKymJJtxR7CJWNI",
       "model": "gpt-4",
       "object": "chat.completion",
       "prompt_filter_results": [
        {
         "content_filter_results": {
          "hate": {
           "filtered": false,
           "severity": "safe"
          },
          "self_harm": {
           "filtered": false,
           "severity": "safe"
          },
          "sexual": {
           "filtered": false,
           "severity": "safe"
          },
          "violence": {
           "filtered": false,
           "severity": "safe"
          }
         },
         "prompt_index": 0
        }
       ],
       "system_fingerprint": "fp_811936bd4f",
       "usage": {
        "completion_tokens": 35,
        "prompt_tokens": 28,
        "total_tokens": 63
       }
      },
      "text/plain": [
       "<IPython.core.display.JSON object>"
      ]
     },
     "execution_count": 28,
     "metadata": {
      "application/json": {
       "expanded": false,
       "root": "root"
      }
     },
     "output_type": "execute_result"
    }
   ],
   "source": [
    "JSON(json.loads(response.model_dump_json()))"
   ]
  },
  {
   "cell_type": "markdown",
   "id": "9b1bd7fb-f65a-43f9-900d-801a125a985f",
   "metadata": {},
   "source": [
    "#### 1.2.2 \n",
    "using the temperature equle to zero. \n",
    "lets see what are the effects of temprature parameter."
   ]
  },
  {
   "cell_type": "code",
   "execution_count": 22,
   "id": "44092eaf-744e-4c5a-bd14-efa2ffc5c498",
   "metadata": {},
   "outputs": [
    {
     "name": "stdout",
     "output_type": "stream",
     "text": [
      "----------\n",
      "assistant : In a quiet glade, 'neath the moon's soft caress,\n",
      "A dragon found treasure in an old hollow's dress.\n",
      "Gleaming 'midst roots, where the wildflowers nest,\n",
      "Ancient gold whispered tales of a world long at rest.\n",
      "----------\n",
      "assistant : In a grove where the moonlight weaves,\n",
      "A dragon found gold beneath autumn leaves.\n",
      "In silent awe, its heart did seize,\n",
      "For treasure lies where one least believes.\n",
      "----------\n",
      "assistant : In cavern's gloom, a glint not from the flame,\n",
      "A dragon finds a trove where shadows play.\n",
      "Beneath old bones, the gold whispers a name,\n",
      "In dust and echoes, treasure lights the way.\n",
      "----------\n",
      "assistant : In a grove where the moonlight weaves,\n",
      "A dragon found gold beneath autumn leaves.\n",
      "In silent awe, its heart did seize,\n",
      "For treasure lies where one least believes.\n",
      "----------\n",
      "assistant : In a grove where the moonlight weaves,\n",
      "A dragon found gold beneath autumn leaves.\n",
      "In silent awe, its heart did seize,\n",
      "For treasure lies where one least believes.\n"
     ]
    }
   ],
   "source": [
    "def create_response():\n",
    "    return client.chat.completions.create(\n",
    "    model = \"gpt-4-preview-testing\",\n",
    "    temperature = 0,\n",
    "    messages = [{\"role\": \"user\", \"content\":input_text}]\n",
    "    )\n",
    "for _ in range(5):\n",
    "    response = create_response()\n",
    "    print(\"----------\")\n",
    "    print(response.choices[0].message.role, \":\",response.choices[0].message.content)"
   ]
  },
  {
   "cell_type": "markdown",
   "id": "c633c4d1-fc4c-4372-a97a-d4139ecff27a",
   "metadata": {},
   "source": [
    "what we are see is that the temperature parameter will pick the highest probability to generate our response. that yield to a consise responses"
   ]
  },
  {
   "cell_type": "code",
   "execution_count": 31,
   "id": "28bfbb25-2b9a-4678-875b-95fcaa4e3168",
   "metadata": {},
   "outputs": [],
   "source": [
    "input_text= \"Write a short story about a dragon who discovers a hidden treasure in an unexpected place.\""
   ]
  },
  {
   "cell_type": "code",
   "execution_count": 32,
   "id": "41816950-077d-4a2e-8a7e-b05050cd2590",
   "metadata": {},
   "outputs": [
    {
     "name": "stdout",
     "output_type": "stream",
     "text": [
      "assistant : Once upon a time, in a land of misty mountains and emerald forests, there dwelled\n"
     ]
    }
   ],
   "source": [
    "response = client.chat.completions.create(\n",
    "    model = \"gpt-4-preview-testing\",\n",
    "    max_tokens = 20,\n",
    "    messages = [{\"role\": \"user\", \"content\":input_text}]\n",
    ")\n",
    "print(response.choices[0].message.role, \":\",response.choices[0].message.content)"
   ]
  },
  {
   "cell_type": "code",
   "execution_count": 33,
   "id": "cb1cdc59-f4d0-4ad7-8e43-812968ac26b0",
   "metadata": {},
   "outputs": [
    {
     "data": {
      "application/json": {
       "choices": [
        {
         "content_filter_results": {
          "hate": {
           "filtered": false,
           "severity": "safe"
          },
          "self_harm": {
           "filtered": false,
           "severity": "safe"
          },
          "sexual": {
           "filtered": false,
           "severity": "safe"
          },
          "violence": {
           "filtered": false,
           "severity": "safe"
          }
         },
         "finish_reason": "length",
         "index": 0,
         "logprobs": null,
         "message": {
          "content": "Once upon a time, in a land of misty mountains and emerald forests, there dwelled",
          "function_call": null,
          "role": "assistant",
          "tool_calls": null
         }
        }
       ],
       "created": 1718622099,
       "id": "chatcmpl-9b4PDmTND5yiWFJvqmrfZq94IwF2N",
       "model": "gpt-4",
       "object": "chat.completion",
       "prompt_filter_results": [
        {
         "content_filter_results": {
          "hate": {
           "filtered": false,
           "severity": "safe"
          },
          "self_harm": {
           "filtered": false,
           "severity": "safe"
          },
          "sexual": {
           "filtered": false,
           "severity": "safe"
          },
          "violence": {
           "filtered": false,
           "severity": "safe"
          }
         },
         "prompt_index": 0
        }
       ],
       "system_fingerprint": "fp_811936bd4f",
       "usage": {
        "completion_tokens": 20,
        "prompt_tokens": 24,
        "total_tokens": 44
       }
      },
      "text/plain": [
       "<IPython.core.display.JSON object>"
      ]
     },
     "execution_count": 33,
     "metadata": {
      "application/json": {
       "expanded": false,
       "root": "root"
      }
     },
     "output_type": "execute_result"
    }
   ],
   "source": [
    "JSON(json.loads(response.model_dump_json()))"
   ]
  },
  {
   "cell_type": "markdown",
   "id": "62600ec8-e026-47e2-865a-0888055a7eb0",
   "metadata": {},
   "source": [
    "we can see that the generation stops at token 20 and it didnt finish the generation."
   ]
  },
  {
   "cell_type": "code",
   "execution_count": 44,
   "id": "54393653-2f64-408d-a919-3d8460288a65",
   "metadata": {},
   "outputs": [],
   "source": [
    "input_text= \"tell me a short 4 lines joke\""
   ]
  },
  {
   "cell_type": "code",
   "execution_count": 45,
   "id": "8d8ce6ac-753d-43b8-9903-1a3d03f46256",
   "metadata": {},
   "outputs": [
    {
     "name": "stdout",
     "output_type": "stream",
     "text": [
      "assistant : Why don't skeletons fight each other? \n",
      "They don't have the guts. \n",
      "So, what do they do instead? \n",
      "They just rattle their bones about the issue!\n"
     ]
    }
   ],
   "source": [
    "response = client.chat.completions.create(\n",
    "    model = \"gpt-4-preview-testing\",\n",
    "    n=5,\n",
    "    temperature = 1,\n",
    "    messages = [{\"role\": \"user\", \"content\":input_text}]\n",
    ")\n",
    "print(response.choices[0].message.role, \":\",response.choices[0].message.content)"
   ]
  },
  {
   "cell_type": "code",
   "execution_count": 46,
   "id": "c99e33c9-9bc9-48d5-adfb-b17aa692d6f5",
   "metadata": {},
   "outputs": [
    {
     "data": {
      "application/json": {
       "choices": [
        {
         "content_filter_results": {
          "hate": {
           "filtered": false,
           "severity": "safe"
          },
          "self_harm": {
           "filtered": false,
           "severity": "safe"
          },
          "sexual": {
           "filtered": false,
           "severity": "safe"
          },
          "violence": {
           "filtered": false,
           "severity": "low"
          }
         },
         "finish_reason": "stop",
         "index": 0,
         "logprobs": null,
         "message": {
          "content": "Why don't skeletons fight each other? \nThey don't have the guts. \nSo, what do they do instead? \nThey just rattle their bones about the issue!",
          "function_call": null,
          "role": "assistant",
          "tool_calls": null
         }
        },
        {
         "content_filter_results": {
          "hate": {
           "filtered": false,
           "severity": "safe"
          },
          "self_harm": {
           "filtered": false,
           "severity": "safe"
          },
          "sexual": {
           "filtered": false,
           "severity": "safe"
          },
          "violence": {
           "filtered": false,
           "severity": "safe"
          }
         },
         "finish_reason": "stop",
         "index": 1,
         "logprobs": null,
         "message": {
          "content": "Why don't we ever tell secrets on a farm?\nBecause the potatoes have eyes, the corn has ears, and the beans stalk.",
          "function_call": null,
          "role": "assistant",
          "tool_calls": null
         }
        },
        {
         "content_filter_results": {
          "hate": {
           "filtered": false,
           "severity": "safe"
          },
          "self_harm": {
           "filtered": false,
           "severity": "safe"
          },
          "sexual": {
           "filtered": false,
           "severity": "safe"
          },
          "violence": {
           "filtered": false,
           "severity": "safe"
          }
         },
         "finish_reason": "stop",
         "index": 2,
         "logprobs": null,
         "message": {
          "content": "Why don't skeletons fight each other?\nThey don't have the guts.\n\nWhy did the tomato turn red?\nBecause it saw the salad dressing.\n\nWhat's orange and sounds like a parrot?\nA carrot!",
          "function_call": null,
          "role": "assistant",
          "tool_calls": null
         }
        },
        {
         "content_filter_results": {
          "hate": {
           "filtered": false,
           "severity": "safe"
          },
          "self_harm": {
           "filtered": false,
           "severity": "safe"
          },
          "sexual": {
           "filtered": false,
           "severity": "safe"
          },
          "violence": {
           "filtered": false,
           "severity": "safe"
          }
         },
         "finish_reason": "stop",
         "index": 3,
         "logprobs": null,
         "message": {
          "content": "Why did the scarecrow win an award?\nBecause he was outstanding in his field.\nBut hay, it's in his jeans.\nHe always did straw a lot of attention!",
          "function_call": null,
          "role": "assistant",
          "tool_calls": null
         }
        },
        {
         "content_filter_results": {
          "hate": {
           "filtered": false,
           "severity": "safe"
          },
          "self_harm": {
           "filtered": false,
           "severity": "safe"
          },
          "sexual": {
           "filtered": false,
           "severity": "safe"
          },
          "violence": {
           "filtered": false,
           "severity": "low"
          }
         },
         "finish_reason": "stop",
         "index": 4,
         "logprobs": null,
         "message": {
          "content": "Why don't skeletons fight each other?\n\nThey just don't have the guts.\n\nSo whenever they meet, they just bone up on the facts—\n\nAnd agree that being spineless is what really cuts!",
          "function_call": null,
          "role": "assistant",
          "tool_calls": null
         }
        }
       ],
       "created": 1718622402,
       "id": "chatcmpl-9b4U6wKeWcULp85dBYnBGjOaZboXb",
       "model": "gpt-4",
       "object": "chat.completion",
       "prompt_filter_results": [
        {
         "content_filter_results": {
          "hate": {
           "filtered": false,
           "severity": "safe"
          },
          "self_harm": {
           "filtered": false,
           "severity": "safe"
          },
          "sexual": {
           "filtered": false,
           "severity": "safe"
          },
          "violence": {
           "filtered": false,
           "severity": "safe"
          }
         },
         "prompt_index": 0
        }
       ],
       "system_fingerprint": "fp_811936bd4f",
       "usage": {
        "completion_tokens": 180,
        "prompt_tokens": 15,
        "total_tokens": 195
       }
      },
      "text/plain": [
       "<IPython.core.display.JSON object>"
      ]
     },
     "execution_count": 46,
     "metadata": {
      "application/json": {
       "expanded": false,
       "root": "root"
      }
     },
     "output_type": "execute_result"
    }
   ],
   "source": [
    "JSON(json.loads(response.model_dump_json()))"
   ]
  },
  {
   "cell_type": "code",
   "execution_count": 49,
   "id": "378c711c-9b6a-4e4f-aa87-7ced21327a4d",
   "metadata": {},
   "outputs": [],
   "source": [
    "def append_to_history(role: str, content: str, memory: list[dict]):\n",
    "    if role == \"system\":\n",
    "        memory.append({\"role\": \"system\", \"content\":content})\n",
    "    if role == \"user\":\n",
    "        memory.append({\"role\": \"user\", \"content\":content})\n",
    "    if role == \"assistant\":\n",
    "        memory.append({\"role\": \"assistant\", \"content\":content})\n",
    "    return memory"
   ]
  },
  {
   "cell_type": "markdown",
   "id": "cf591cc3-fdb6-4fc2-90e3-48e862e5ba91",
   "metadata": {},
   "source": [
    "## 1. Creating a function:\n",
    "we will create a simple function that will illustrate creating meeting in my calendar."
   ]
  },
  {
   "cell_type": "code",
   "execution_count": 20,
   "id": "ed8be053-b6da-4bb7-9ed7-23902d9d2687",
   "metadata": {},
   "outputs": [],
   "source": [
    "def ask_database(conn, query):\n",
    "    \"\"\"Function to query SQLite database with a provided SQL query.\"\"\"\n",
    "    try:\n",
    "        results = str(conn.execute(query).fetchall())\n",
    "    except Exception as e:\n",
    "        results = f\"query failed with error: {e}\"\n",
    "    return results"
   ]
  },
  {
   "cell_type": "markdown",
   "id": "1bdf156d-e2bb-4ddf-98f7-5deb7d6085fc",
   "metadata": {},
   "source": [
    "## 2. Creating a function call Json:\n",
    "we will create a simple function that will illustrate creating meeting in my calendar."
   ]
  },
  {
   "cell_type": "markdown",
   "id": "6dc13e81-f8fc-4d29-ab49-5cca98e471c4",
   "metadata": {},
   "source": [
    "### Function Call Parameter Types\n",
    "\n",
    "When defining parameters for function calls, you can use the following types:\n",
    "\n",
    "1. **String (`string`)**\n",
    "    - Textual data.\n",
    "    - Example: `\"title\": { \"type\": \"string\" }`\n",
    "\n",
    "2. **Number (`number`)**\n",
    "    - Numeric data (integers and floating-point).\n",
    "    - Example: `\"duration\": { \"type\": \"number\" }`\n",
    "\n",
    "3. **Integer (`integer`)**\n",
    "    - Integer values.\n",
    "    - Example: `\"attendees_count\": { \"type\": \"integer\" }`\n",
    "\n",
    "4. **Boolean (`boolean`)**\n",
    "    - True or false.\n",
    "    - Example: `\"is_virtual\": { \"type\": \"boolean\" }`\n",
    "\n",
    "5. **Array (`array`)**\n",
    "    - List of items.\n",
    "    - Example: `\"invitees\": { \"type\": \"array\", \"items\": { \"type\": \"string\" } }`\n",
    "\n",
    "6. **Object (`object`)**\n",
    "    - Complex structure with properties.\n",
    "    - Example:\n",
    "      ```json\n",
    "      {\n",
    "        \"type\": \"object\",\n",
    "        \"properties\": {\n",
    "          \"title\": { \"type\": \"string\" },\n",
    "          \"date_and_time\": { \"type\": \"string\" },\n",
    "          \"invitees\": { \"type\": \"array\", \"items\": { \"type\": \"string\" } }\n",
    "        }\n",
    "      }\n",
    "      ```"
   ]
  },
  {
   "cell_type": "code",
   "execution_count": 21,
   "id": "7aa021e2-75c5-414d-a25b-53110fbe569e",
   "metadata": {},
   "outputs": [],
   "source": [
    "schedule_meeting_tool =     {\n",
    "        \"type\": \"function\",\n",
    "        \"function\": {\n",
    "            \"name\": \"ask_database\",\n",
    "            \"description\": f\"\"\"\n",
    "                Use this function to query the Employees database.\n",
    "                The database contains the following schema:\n",
    "                {database_schema_string}\n",
    "                Possible values for columns:\n",
    "                - role: {', '.join(role_values)}\n",
    "                - rank: {', '.join(rank_values)}\n",
    "                - country: {', '.join(country_values)}\n",
    "                The input should be a fully formed SQL query.\n",
    "                \"\"\",\n",
    "            \"parameters\": {\n",
    "                \"type\": \"object\",\n",
    "                \"properties\": {\n",
    "                    \"query\": {\n",
    "                        \"type\": \"string\",\n",
    "                        \"description\": f\"\"\"\n",
    "                                SQL query extracting info to answer the user's question.\n",
    "                                SQL should be written using this database schema:\n",
    "                                {database_schema_string}\n",
    "                                The query should be returned in plain text, not in JSON.\n",
    "                                \"\"\",\n",
    "                    }\n",
    "                },\n",
    "                \"required\": [\"query\"],\n",
    "            },\n",
    "        }\n",
    "    }\n"
   ]
  },
  {
   "cell_type": "markdown",
   "id": "c781d142-a85b-492f-beac-057300aa255a",
   "metadata": {},
   "source": [
    "## 3. Using the function call in ChatCompletion:"
   ]
  },
  {
   "cell_type": "code",
   "execution_count": 26,
   "id": "78ee30fa-1ea9-4f9b-b7c8-26fe744f6a54",
   "metadata": {},
   "outputs": [],
   "source": [
    "system_message = \"\"\"\n",
    "You are a helpful assistant capable of querying an SQLite database. The database contains information about employees with the following schema:\n",
    "\n",
    "Table: Employees\n",
    "Columns: id, first_name, last_name, phone_number, email_address, role, rank, country\n",
    "\n",
    "Possible values for columns:\n",
    "- role: Manager, Developer, HR\n",
    "- rank: senior, mid, junior\n",
    "- country: IL, US, UK\n",
    "\n",
    "You can use the `ask_database` function to query the database. The input should be a fully formed SQL query.\n",
    "\"\"\"\n",
    "input_text = \"what is the email of John Doe\"\n",
    "tools = [schedule_meeting_tool]"
   ]
  },
  {
   "cell_type": "code",
   "execution_count": 27,
   "id": "80deb8dc-f318-4720-a788-9697f503cea4",
   "metadata": {
    "scrolled": true
   },
   "outputs": [
    {
     "data": {
      "application/json": {
       "choices": [
        {
         "content_filter_results": {},
         "finish_reason": "tool_calls",
         "index": 0,
         "logprobs": null,
         "message": {
          "content": null,
          "function_call": null,
          "role": "assistant",
          "tool_calls": [
           {
            "function": {
             "arguments": "{\n  \"query\": \"SELECT email_address FROM Employees WHERE first_name = 'John' AND last_name = 'Doe'\"\n}",
             "name": "ask_database"
            },
            "id": "call_uZtN5J305EGzhUmcApqWFhtZ",
            "type": "function"
           }
          ]
         }
        }
       ],
       "created": 1718638048,
       "id": "chatcmpl-9b8YS7JWWP07dOenusmYO1BJLqOSk",
       "model": "gpt-35-turbo",
       "object": "chat.completion",
       "prompt_filter_results": [
        {
         "content_filter_results": {
          "hate": {
           "filtered": false,
           "severity": "safe"
          },
          "self_harm": {
           "filtered": false,
           "severity": "safe"
          },
          "sexual": {
           "filtered": false,
           "severity": "safe"
          },
          "violence": {
           "filtered": false,
           "severity": "safe"
          }
         },
         "prompt_index": 0
        }
       ],
       "system_fingerprint": null,
       "usage": {
        "completion_tokens": 33,
        "prompt_tokens": 308,
        "total_tokens": 341
       }
      },
      "text/plain": [
       "<IPython.core.display.JSON object>"
      ]
     },
     "execution_count": 27,
     "metadata": {
      "application/json": {
       "expanded": false,
       "root": "root"
      }
     },
     "output_type": "execute_result"
    }
   ],
   "source": [
    "response = client.chat.completions.create(\n",
    "    model = \"gpt-35-turbo\",\n",
    "    messages = [{\"role\": \"system\", \"content\": system_message},\n",
    "                {\"role\": \"user\", \"content\":input_text}],\n",
    "    temperature= 0,\n",
    "    tools=tools, \n",
    "    tool_choice=\"auto\",\n",
    ")\n",
    "JSON(json.loads(response.model_dump_json()))"
   ]
  },
  {
   "cell_type": "code",
   "execution_count": 28,
   "id": "1802dffe-7d41-4785-965c-3b4664499b0e",
   "metadata": {},
   "outputs": [
    {
     "name": "stdout",
     "output_type": "stream",
     "text": [
      "assistant : None\n",
      "----------\n",
      "ask_database : with args: {\n",
      "  \"query\": \"SELECT email_address FROM Employees WHERE first_name = 'John' AND last_name = 'Doe'\"\n",
      "}\n"
     ]
    }
   ],
   "source": [
    "print(response.choices[0].message.role, \":\",response.choices[0].message.content)\n",
    "print(\"----------\")\n",
    "print(response.choices[0].message.tool_calls[0].function.name, \": with args:\",response.choices[0].message.tool_calls[0].function.arguments)"
   ]
  },
  {
   "cell_type": "markdown",
   "id": "013f111e-710f-497a-8375-1dc9aaa2806b",
   "metadata": {},
   "source": [
    "we get back the response and now we will pull out the tool calls:"
   ]
  },
  {
   "cell_type": "code",
   "execution_count": 29,
   "id": "99208602-f14a-4adb-8d2d-66110e590013",
   "metadata": {},
   "outputs": [
    {
     "data": {
      "text/plain": [
       "\"[('john.doe@example.com',), ('john.doe@example.com',)]\""
      ]
     },
     "execution_count": 29,
     "metadata": {},
     "output_type": "execute_result"
    }
   ],
   "source": [
    "tool_calls = response.choices[0].message.tool_calls[0]\n",
    "\n",
    "if tool_calls:\n",
    "    # To be able to use our tools we will need to create a mapping between the function name and the actual function object:\n",
    "    available_functions = {\n",
    "    \"ask_database\": ask_database\n",
    "    }\n",
    "    function_name = tool_calls.function.name\n",
    "    function_arguments = json.loads(tool_calls.function.arguments)\n",
    "    function_to_call = available_functions[function_name]\n",
    "    function_response = function_to_call(\n",
    "        conn= conn,\n",
    "        query = function_arguments.get('query')\n",
    "    )\n",
    "function_response"
   ]
  },
  {
   "cell_type": "code",
   "execution_count": null,
   "id": "ff0af16d-545d-487d-9eb4-ae59afabd39b",
   "metadata": {},
   "outputs": [],
   "source": []
  }
 ],
 "metadata": {
  "kernelspec": {
   "display_name": "Python 3 (ipykernel)",
   "language": "python",
   "name": "python3"
  },
  "language_info": {
   "codemirror_mode": {
    "name": "ipython",
    "version": 3
   },
   "file_extension": ".py",
   "mimetype": "text/x-python",
   "name": "python",
   "nbconvert_exporter": "python",
   "pygments_lexer": "ipython3",
   "version": "3.10.11"
  }
 },
 "nbformat": 4,
 "nbformat_minor": 5
}
