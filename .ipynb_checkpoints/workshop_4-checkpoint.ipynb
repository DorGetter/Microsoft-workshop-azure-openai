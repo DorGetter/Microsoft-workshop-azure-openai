{
 "cells": [
  {
   "cell_type": "code",
   "execution_count": 8,
   "id": "2c28e4dd-2aac-44aa-bcba-2608280db1db",
   "metadata": {},
   "outputs": [],
   "source": [
    "import json\n",
    "import os\n",
    "import pandas as pd\n",
    "from IPython.display import JSON\n",
    "import sqlite3\n",
    "from helpers.utilities import get_database_schemas,show_table_as_dataframe"
   ]
  },
  {
   "cell_type": "markdown",
   "id": "99de53a9-a2b9-4376-8540-720412cebdf5",
   "metadata": {},
   "source": [
    "# Workshop 4: DB Integration\n",
    "\n",
    "In this workshop, we will explore a more complex usage of Function Calls in ChatCompletion using Azure OpenAI. Our focus will be on creating a chat interaction with the user that can perform database queries through function calls. This will allow us to see how we can seamlessly integrate database operations within a conversational interface.\n",
    "\n",
    "We will cover the following steps:\n",
    "\n",
    "1. **Define our database**: Set up a SQLite database to be queried.\n",
    "2. **Create a simple function**: Write a Python function to query the database.\n",
    "3. **Create JSON function tool for Azure OpenAI**: Define the function call structure in JSON format for Azure OpenAI.\n",
    "4. **Use the function tool in the ChatCompletion request**: Implement the function call in the ChatCompletion API request.\n",
    "5. **Create a chat loop that interacts with our new function**: Develop a chat loop that allows continuous interaction with the user, querying the database as needed.\n"
   ]
  },
  {
   "cell_type": "markdown",
   "id": "fa67ced4-d2b1-4421-95f8-53f19822c202",
   "metadata": {},
   "source": [
    "We will use the imports, functions mentioned in workshop_1 "
   ]
  },
  {
   "cell_type": "code",
   "execution_count": 9,
   "id": "834260a5-402a-4b37-8e1e-05df8cdec48e",
   "metadata": {},
   "outputs": [],
   "source": [
    "from openai import AzureOpenAI"
   ]
  },
  {
   "cell_type": "code",
   "execution_count": 10,
   "id": "162f5aa7-bac2-4c6b-88f5-b6f6c2c11703",
   "metadata": {},
   "outputs": [],
   "source": [
    "client = AzureOpenAI(\n",
    "    azure_endpoint=\"https://testopenai4.openai.azure.com/\",\n",
    "    api_key=\"19f61bb2a418484dbe809cb720c2527b\",\n",
    "    api_version=\"2024-02-15-preview\"\n",
    ")"
   ]
  },
  {
   "cell_type": "markdown",
   "id": "2b3bcb20-c695-4ff4-b886-76a2272f9f14",
   "metadata": {},
   "source": [
    "## 1. Define our database:\n",
    "We will start by setting up a SQLite database that contains employee information. This database will be queried during our chat interactions.\n",
    "\n",
    "The database schema will include a table named `Employees` with columns such as `id`, `first_name`, `last_name`, `phone_number`, `email_address`, `role`, `rank`, and `country`.\n"
   ]
  },
  {
   "cell_type": "code",
   "execution_count": 11,
   "id": "383dff91-aa5d-4258-9323-d355e479628f",
   "metadata": {},
   "outputs": [
    {
     "name": "stdout",
     "output_type": "stream",
     "text": [
      "Opened database successfully\n"
     ]
    }
   ],
   "source": [
    "conn = sqlite3.connect(\"employees.db\")\n",
    "cursor = conn.cursor()\n",
    "print(\"Opened database successfully\")"
   ]
  },
  {
   "cell_type": "code",
   "execution_count": 12,
   "id": "72068e01-198b-47c1-ba0c-49043caded6c",
   "metadata": {},
   "outputs": [
    {
     "data": {
      "application/json": [
       {
        "column_names": [
         "id",
         "first_name",
         "last_name",
         "phone_number",
         "email_address",
         "role",
         "rank",
         "country"
        ],
        "table_name": "Employees"
       }
      ],
      "text/plain": [
       "<IPython.core.display.JSON object>"
      ]
     },
     "execution_count": 12,
     "metadata": {
      "application/json": {
       "expanded": false,
       "root": "root"
      }
     },
     "output_type": "execute_result"
    }
   ],
   "source": [
    "database_schema_dict, database_schema_string, role_values, rank_values, country_values = get_database_schemas(conn)\n",
    "JSON(database_schema_dict)"
   ]
  },
  {
   "cell_type": "code",
   "execution_count": 13,
   "id": "33b8ccc5-d9c5-4bf0-845f-f163507e1dcb",
   "metadata": {},
   "outputs": [
    {
     "data": {
      "text/html": [
       "<div>\n",
       "<style scoped>\n",
       "    .dataframe tbody tr th:only-of-type {\n",
       "        vertical-align: middle;\n",
       "    }\n",
       "\n",
       "    .dataframe tbody tr th {\n",
       "        vertical-align: top;\n",
       "    }\n",
       "\n",
       "    .dataframe thead th {\n",
       "        text-align: right;\n",
       "    }\n",
       "</style>\n",
       "<table border=\"1\" class=\"dataframe\">\n",
       "  <thead>\n",
       "    <tr style=\"text-align: right;\">\n",
       "      <th></th>\n",
       "      <th>id</th>\n",
       "      <th>first_name</th>\n",
       "      <th>last_name</th>\n",
       "      <th>phone_number</th>\n",
       "      <th>email_address</th>\n",
       "      <th>role</th>\n",
       "      <th>rank</th>\n",
       "      <th>country</th>\n",
       "    </tr>\n",
       "  </thead>\n",
       "  <tbody>\n",
       "    <tr>\n",
       "      <th>0</th>\n",
       "      <td>1</td>\n",
       "      <td>John</td>\n",
       "      <td>Doe</td>\n",
       "      <td>555-1234</td>\n",
       "      <td>john.doe@example.com</td>\n",
       "      <td>Manager</td>\n",
       "      <td>senior</td>\n",
       "      <td>US</td>\n",
       "    </tr>\n",
       "    <tr>\n",
       "      <th>1</th>\n",
       "      <td>2</td>\n",
       "      <td>Jane</td>\n",
       "      <td>Smith</td>\n",
       "      <td>555-5678</td>\n",
       "      <td>jane.smith@example.com</td>\n",
       "      <td>Developer</td>\n",
       "      <td>mid</td>\n",
       "      <td>UK</td>\n",
       "    </tr>\n",
       "    <tr>\n",
       "      <th>2</th>\n",
       "      <td>3</td>\n",
       "      <td>Alice</td>\n",
       "      <td>Johnson</td>\n",
       "      <td>555-8765</td>\n",
       "      <td>alice.johnson@example.com</td>\n",
       "      <td>HR</td>\n",
       "      <td>junior</td>\n",
       "      <td>IL</td>\n",
       "    </tr>\n",
       "    <tr>\n",
       "      <th>3</th>\n",
       "      <td>4</td>\n",
       "      <td>Bob</td>\n",
       "      <td>Brown</td>\n",
       "      <td>555-4321</td>\n",
       "      <td>bob.brown@example.com</td>\n",
       "      <td>Manager</td>\n",
       "      <td>mid</td>\n",
       "      <td>US</td>\n",
       "    </tr>\n",
       "    <tr>\n",
       "      <th>4</th>\n",
       "      <td>5</td>\n",
       "      <td>Carol</td>\n",
       "      <td>Davis</td>\n",
       "      <td>555-6789</td>\n",
       "      <td>carol.davis@example.com</td>\n",
       "      <td>Developer</td>\n",
       "      <td>senior</td>\n",
       "      <td>UK</td>\n",
       "    </tr>\n",
       "    <tr>\n",
       "      <th>5</th>\n",
       "      <td>6</td>\n",
       "      <td>Dave</td>\n",
       "      <td>Wilson</td>\n",
       "      <td>555-9876</td>\n",
       "      <td>dave.wilson@example.com</td>\n",
       "      <td>HR</td>\n",
       "      <td>mid</td>\n",
       "      <td>IL</td>\n",
       "    </tr>\n",
       "    <tr>\n",
       "      <th>6</th>\n",
       "      <td>7</td>\n",
       "      <td>Eve</td>\n",
       "      <td>Miller</td>\n",
       "      <td>555-3456</td>\n",
       "      <td>eve.miller@example.com</td>\n",
       "      <td>Manager</td>\n",
       "      <td>junior</td>\n",
       "      <td>US</td>\n",
       "    </tr>\n",
       "    <tr>\n",
       "      <th>7</th>\n",
       "      <td>8</td>\n",
       "      <td>Frank</td>\n",
       "      <td>Moore</td>\n",
       "      <td>555-6543</td>\n",
       "      <td>frank.moore@example.com</td>\n",
       "      <td>Developer</td>\n",
       "      <td>mid</td>\n",
       "      <td>UK</td>\n",
       "    </tr>\n",
       "    <tr>\n",
       "      <th>8</th>\n",
       "      <td>9</td>\n",
       "      <td>Grace</td>\n",
       "      <td>Taylor</td>\n",
       "      <td>555-7890</td>\n",
       "      <td>grace.taylor@example.com</td>\n",
       "      <td>HR</td>\n",
       "      <td>senior</td>\n",
       "      <td>IL</td>\n",
       "    </tr>\n",
       "    <tr>\n",
       "      <th>9</th>\n",
       "      <td>10</td>\n",
       "      <td>Hank</td>\n",
       "      <td>Anderson</td>\n",
       "      <td>555-0123</td>\n",
       "      <td>hank.anderson@example.com</td>\n",
       "      <td>Manager</td>\n",
       "      <td>senior</td>\n",
       "      <td>US</td>\n",
       "    </tr>\n",
       "  </tbody>\n",
       "</table>\n",
       "</div>"
      ],
      "text/plain": [
       "   id first_name last_name phone_number              email_address       role  \\\n",
       "0   1       John       Doe     555-1234       john.doe@example.com    Manager   \n",
       "1   2       Jane     Smith     555-5678     jane.smith@example.com  Developer   \n",
       "2   3      Alice   Johnson     555-8765  alice.johnson@example.com         HR   \n",
       "3   4        Bob     Brown     555-4321      bob.brown@example.com    Manager   \n",
       "4   5      Carol     Davis     555-6789    carol.davis@example.com  Developer   \n",
       "5   6       Dave    Wilson     555-9876    dave.wilson@example.com         HR   \n",
       "6   7        Eve    Miller     555-3456     eve.miller@example.com    Manager   \n",
       "7   8      Frank     Moore     555-6543    frank.moore@example.com  Developer   \n",
       "8   9      Grace    Taylor     555-7890   grace.taylor@example.com         HR   \n",
       "9  10       Hank  Anderson     555-0123  hank.anderson@example.com    Manager   \n",
       "\n",
       "     rank country  \n",
       "0  senior      US  \n",
       "1     mid      UK  \n",
       "2  junior      IL  \n",
       "3     mid      US  \n",
       "4  senior      UK  \n",
       "5     mid      IL  \n",
       "6  junior      US  \n",
       "7     mid      UK  \n",
       "8  senior      IL  \n",
       "9  senior      US  "
      ]
     },
     "execution_count": 13,
     "metadata": {},
     "output_type": "execute_result"
    }
   ],
   "source": [
    "show_table_as_dataframe(conn, \"Employees\").head(10)"
   ]
  },
  {
   "cell_type": "markdown",
   "id": "cf591cc3-fdb6-4fc2-90e3-48e862e5ba91",
   "metadata": {},
   "source": [
    "## 2. Creating a function:\n",
    "Next, we will create a simple function named `ask_database` that takes a SQL query as input and returns the query results. This function will be used to interact with our SQLite database.\n"
   ]
  },
  {
   "cell_type": "code",
   "execution_count": 14,
   "id": "ed8be053-b6da-4bb7-9ed7-23902d9d2687",
   "metadata": {},
   "outputs": [],
   "source": [
    "def ask_database(conn, query):\n",
    "    \"\"\"Function to query SQLite database with a provided SQL query.\"\"\"\n",
    "    try:\n",
    "        results = str(conn.execute(query).fetchall())\n",
    "    except Exception as e:\n",
    "        results = f\"query failed with error: {e}\"\n",
    "    return results"
   ]
  },
  {
   "cell_type": "markdown",
   "id": "1bdf156d-e2bb-4ddf-98f7-5deb7d6085fc",
   "metadata": {},
   "source": [
    "## 3. Creating a Function Call JSON\n",
    "\n",
    "In this section, we create a JSON function tool for Azure OpenAI to define our `ask_database` function. This function is essential for querying the Employees database and requires a detailed description to ensure precise queries. The function JSON includes:\n",
    "\n",
    "- Comprehensive information about the database schema, table names, and column details.\n",
    "- Guidance on constructing fully formed SQL queries necessary for extracting the required information.\n",
    "- Emphasis on the schema and possible values for each column.\n",
    "\n",
    "This detailed description ensures:\n",
    "\n",
    "- Clear guidance on structuring queries.\n",
    "- Accurate and efficient data retrieval.\n",
    "- Effective database interaction within the chat.\n",
    "\n",
    "\n"
   ]
  },
  {
   "cell_type": "code",
   "execution_count": 15,
   "id": "7aa021e2-75c5-414d-a25b-53110fbe569e",
   "metadata": {},
   "outputs": [],
   "source": [
    "schedule_meeting_tool =     {\n",
    "        \"type\": \"function\",\n",
    "        \"function\": {\n",
    "            \"name\": \"ask_database\",\n",
    "            \"description\": f\"\"\"\n",
    "                Use this function to query the Employees database.\n",
    "                The database contains the following schema:\n",
    "                {database_schema_string}\n",
    "                Possible values for columns:\n",
    "                - role: {', '.join(role_values)}\n",
    "                - rank: {', '.join(rank_values)}\n",
    "                - country: {', '.join(country_values)}\n",
    "                The input should be a fully formed SQL query.\n",
    "                \"\"\",\n",
    "            \"parameters\": {\n",
    "                \"type\": \"object\",\n",
    "                \"properties\": {\n",
    "                    \"query\": {\n",
    "                        \"type\": \"string\",\n",
    "                        \"description\": f\"\"\"\n",
    "                                SQL query extracting info to answer the user's question.\n",
    "                                SQL should be written using this database schema:\n",
    "                                {database_schema_string}\n",
    "                                The query should be returned in plain text, not in JSON.\n",
    "                                \"\"\",\n",
    "                    }\n",
    "                },\n",
    "                \"required\": [\"query\"],\n",
    "            },\n",
    "        }\n",
    "    }\n"
   ]
  },
  {
   "cell_type": "code",
   "execution_count": 16,
   "id": "e696c914-f8ea-4808-8139-a208f059c626",
   "metadata": {},
   "outputs": [
    {
     "name": "stdout",
     "output_type": "stream",
     "text": [
      "{'type': 'function', 'function': {'name': 'ask_database', 'description': '\\n                Use this function to query the Employees database.\\n                The database contains the following schema:\\n                Table: Employees\\nColumns: id, first_name, last_name, phone_number, email_address, role, rank, country\\n                Possible values for columns:\\n                - role: Manager, Developer, HR\\n                - rank: senior, mid, junior\\n                - country: IL, US, UK\\n                The input should be a fully formed SQL query.\\n                ', 'parameters': {'type': 'object', 'properties': {'query': {'type': 'string', 'description': \"\\n                                SQL query extracting info to answer the user's question.\\n                                SQL should be written using this database schema:\\n                                Table: Employees\\nColumns: id, first_name, last_name, phone_number, email_address, role, rank, country\\n                                The query should be returned in plain text, not in JSON.\\n                                \"}}, 'required': ['query']}}}\n"
     ]
    }
   ],
   "source": [
    "print(schedule_meeting_tool)"
   ]
  },
  {
   "cell_type": "markdown",
   "id": "c781d142-a85b-492f-beac-057300aa255a",
   "metadata": {},
   "source": [
    "## 4. Using the function tool in ChatCompletion:\n",
    "We will now use the JSON function tool we created in a ChatCompletion request. This involves sending a chat message that triggers the function call to query the database based on the user's input.\n"
   ]
  },
  {
   "cell_type": "code",
   "execution_count": 18,
   "id": "78ee30fa-1ea9-4f9b-b7c8-26fe744f6a54",
   "metadata": {},
   "outputs": [],
   "source": [
    "system_message = \"\"\"\n",
    "You are a helpful assistant capable of querying an SQLite database. The database contains information about employees with the following schema:\n",
    "\n",
    "Table: Employees\n",
    "Columns: id, first_name, last_name, phone_number, email_address, role, rank, country\n",
    "\n",
    "Possible values for columns:\n",
    "- role: Manager, Developer, HR\n",
    "- rank: senior, mid, junior\n",
    "- country: IL, US, UK\n",
    "\n",
    "You can use the `ask_database` function to query the database. The input should be a fully formed SQL query.\n",
    "\"\"\"\n",
    "input_text = \"what is the email of John Doe\"\n",
    "tools = [schedule_meeting_tool]"
   ]
  },
  {
   "cell_type": "code",
   "execution_count": 19,
   "id": "80deb8dc-f318-4720-a788-9697f503cea4",
   "metadata": {
    "scrolled": true
   },
   "outputs": [
    {
     "data": {
      "application/json": {
       "choices": [
        {
         "content_filter_results": {},
         "finish_reason": "tool_calls",
         "index": 0,
         "logprobs": null,
         "message": {
          "content": null,
          "function_call": null,
          "role": "assistant",
          "tool_calls": [
           {
            "function": {
             "arguments": "{\n  \"query\": \"SELECT email_address FROM Employees WHERE first_name = 'John' AND last_name = 'Doe'\"\n}",
             "name": "ask_database"
            },
            "id": "call_5AbYIoAiduTYusIaZwCQQY3t",
            "type": "function"
           }
          ]
         }
        }
       ],
       "created": 1718702881,
       "id": "chatcmpl-9bPQ9Ybk0NqYNe7p0JR5HISVrB6cw",
       "model": "gpt-35-turbo",
       "object": "chat.completion",
       "prompt_filter_results": [
        {
         "content_filter_results": {
          "hate": {
           "filtered": false,
           "severity": "safe"
          },
          "self_harm": {
           "filtered": false,
           "severity": "safe"
          },
          "sexual": {
           "filtered": false,
           "severity": "safe"
          },
          "violence": {
           "filtered": false,
           "severity": "safe"
          }
         },
         "prompt_index": 0
        }
       ],
       "system_fingerprint": null,
       "usage": {
        "completion_tokens": 33,
        "prompt_tokens": 308,
        "total_tokens": 341
       }
      },
      "text/plain": [
       "<IPython.core.display.JSON object>"
      ]
     },
     "execution_count": 19,
     "metadata": {
      "application/json": {
       "expanded": false,
       "root": "root"
      }
     },
     "output_type": "execute_result"
    }
   ],
   "source": [
    "response = client.chat.completions.create(\n",
    "    model = \"gpt-35-turbo\",\n",
    "    messages = [{\"role\": \"system\", \"content\": system_message},\n",
    "                {\"role\": \"user\", \"content\":input_text}],\n",
    "    temperature= 0,\n",
    "    tools=tools, \n",
    "    tool_choice=\"auto\",\n",
    ")\n",
    "JSON(json.loads(response.model_dump_json()))"
   ]
  },
  {
   "cell_type": "code",
   "execution_count": 20,
   "id": "1802dffe-7d41-4785-965c-3b4664499b0e",
   "metadata": {},
   "outputs": [
    {
     "name": "stdout",
     "output_type": "stream",
     "text": [
      "assistant : None\n",
      "----------\n",
      "ask_database : with args: {\n",
      "  \"query\": \"SELECT email_address FROM Employees WHERE first_name = 'John' AND last_name = 'Doe'\"\n",
      "}\n"
     ]
    }
   ],
   "source": [
    "print(response.choices[0].message.role, \":\",response.choices[0].message.content)\n",
    "print(\"----------\")\n",
    "print(response.choices[0].message.tool_calls[0].function.name, \": with args:\",response.choices[0].message.tool_calls[0].function.arguments)"
   ]
  },
  {
   "cell_type": "markdown",
   "id": "013f111e-710f-497a-8375-1dc9aaa2806b",
   "metadata": {},
   "source": [
    "we get back the response and now we will pull out the tool calls:"
   ]
  },
  {
   "cell_type": "code",
   "execution_count": 22,
   "id": "99208602-f14a-4adb-8d2d-66110e590013",
   "metadata": {},
   "outputs": [
    {
     "data": {
      "text/plain": [
       "\"[('john.doe@example.com',), ('john.doe@example.com',)]\""
      ]
     },
     "execution_count": 22,
     "metadata": {},
     "output_type": "execute_result"
    }
   ],
   "source": [
    "tool_calls = response.choices[0].message.tool_calls[0]\n",
    "\n",
    "if tool_calls:\n",
    "    # To be able to use our tools we will need to create a mapping between the function name and the actual function object:\n",
    "    available_functions = {\n",
    "    \"ask_database\": ask_database\n",
    "    }\n",
    "    function_name = tool_calls.function.name\n",
    "    function_arguments = json.loads(tool_calls.function.arguments)\n",
    "    function_to_call = available_functions[function_name]\n",
    "    function_response = function_to_call(\n",
    "        conn= conn,\n",
    "        query = function_arguments.get('query')\n",
    "    )\n",
    "function_response"
   ]
  },
  {
   "cell_type": "code",
   "execution_count": null,
   "id": "ff0af16d-545d-487d-9eb4-ae59afabd39b",
   "metadata": {},
   "outputs": [],
   "source": []
  }
 ],
 "metadata": {
  "kernelspec": {
   "display_name": "Python 3 (ipykernel)",
   "language": "python",
   "name": "python3"
  },
  "language_info": {
   "codemirror_mode": {
    "name": "ipython",
    "version": 3
   },
   "file_extension": ".py",
   "mimetype": "text/x-python",
   "name": "python",
   "nbconvert_exporter": "python",
   "pygments_lexer": "ipython3",
   "version": "3.10.11"
  }
 },
 "nbformat": 4,
 "nbformat_minor": 5
}
